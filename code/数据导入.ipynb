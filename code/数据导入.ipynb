{
 "cells": [
  {
   "cell_type": "markdown",
   "id": "8f5c1cb9",
   "metadata": {},
   "source": [
    "该文件主要做把数据导出为josn 或者 excel格式的表，以供求解器容易读取数据"
   ]
  },
  {
   "cell_type": "code",
   "execution_count": 91,
   "id": "9a1c0148",
   "metadata": {},
   "outputs": [],
   "source": [
    "import pandas as pd"
   ]
  },
  {
   "cell_type": "markdown",
   "id": "c53bcbe2",
   "metadata": {},
   "source": [
    "### Car rental"
   ]
  },
  {
   "cell_type": "code",
   "execution_count": 3,
   "id": "814e44da",
   "metadata": {},
   "outputs": [],
   "source": [
    "# 定义集合\n",
    "depots = ['Glasgow','Manchester','Birmingham','Plymouth']\n",
    "days = [0,1,2,3,4,5] \n",
    "rentDays = [1,2,3]\n"
   ]
  },
  {
   "cell_type": "code",
   "execution_count": 4,
   "id": "20c9a8d6",
   "metadata": {},
   "outputs": [
    {
     "data": {
      "text/html": [
       "<div>\n",
       "<style scoped>\n",
       "    .dataframe tbody tr th:only-of-type {\n",
       "        vertical-align: middle;\n",
       "    }\n",
       "\n",
       "    .dataframe tbody tr th {\n",
       "        vertical-align: top;\n",
       "    }\n",
       "\n",
       "    .dataframe thead th {\n",
       "        text-align: right;\n",
       "    }\n",
       "</style>\n",
       "<table border=\"1\" class=\"dataframe\">\n",
       "  <thead>\n",
       "    <tr style=\"text-align: right;\">\n",
       "      <th></th>\n",
       "      <th>Glasgow</th>\n",
       "      <th>Manchester</th>\n",
       "      <th>Birmingham</th>\n",
       "      <th>Plymouth</th>\n",
       "    </tr>\n",
       "  </thead>\n",
       "  <tbody>\n",
       "    <tr>\n",
       "      <th>0</th>\n",
       "      <td>100</td>\n",
       "      <td>250</td>\n",
       "      <td>95</td>\n",
       "      <td>160</td>\n",
       "    </tr>\n",
       "    <tr>\n",
       "      <th>1</th>\n",
       "      <td>150</td>\n",
       "      <td>143</td>\n",
       "      <td>195</td>\n",
       "      <td>99</td>\n",
       "    </tr>\n",
       "    <tr>\n",
       "      <th>2</th>\n",
       "      <td>135</td>\n",
       "      <td>80</td>\n",
       "      <td>242</td>\n",
       "      <td>55</td>\n",
       "    </tr>\n",
       "    <tr>\n",
       "      <th>3</th>\n",
       "      <td>83</td>\n",
       "      <td>225</td>\n",
       "      <td>111</td>\n",
       "      <td>96</td>\n",
       "    </tr>\n",
       "    <tr>\n",
       "      <th>4</th>\n",
       "      <td>120</td>\n",
       "      <td>210</td>\n",
       "      <td>70</td>\n",
       "      <td>115</td>\n",
       "    </tr>\n",
       "    <tr>\n",
       "      <th>5</th>\n",
       "      <td>230</td>\n",
       "      <td>98</td>\n",
       "      <td>124</td>\n",
       "      <td>80</td>\n",
       "    </tr>\n",
       "  </tbody>\n",
       "</table>\n",
       "</div>"
      ],
      "text/plain": [
       "  Glasgow Manchester Birmingham Plymouth\n",
       "0     100        250         95      160\n",
       "1     150        143        195       99\n",
       "2     135         80        242       55\n",
       "3      83        225        111       96\n",
       "4     120        210         70      115\n",
       "5     230         98        124       80"
      ]
     },
     "execution_count": 4,
     "metadata": {},
     "output_type": "execute_result"
    }
   ],
   "source": [
    "demand_df = pd.DataFrame(columns=depots)\n",
    "demands = [[100,250,95,160],\n",
    "           [150,143,195,99],\n",
    "           [135,80,242,55],\n",
    "           [83,225,111,96],\n",
    "           [120,210,70,115],\n",
    "           [230,98,124,80]]\n",
    "for day in days:\n",
    "    demand_df.loc[day] = demands[day]\n",
    "demand_df.to_excel(\"../data/car_rental/demands.xlsx\")\n",
    "demand_df"
   ]
  },
  {
   "cell_type": "code",
   "execution_count": 98,
   "id": "ca4e2aca",
   "metadata": {},
   "outputs": [
    {
     "data": {
      "text/html": [
       "<div>\n",
       "<style scoped>\n",
       "    .dataframe tbody tr th:only-of-type {\n",
       "        vertical-align: middle;\n",
       "    }\n",
       "\n",
       "    .dataframe tbody tr th {\n",
       "        vertical-align: top;\n",
       "    }\n",
       "\n",
       "    .dataframe thead th {\n",
       "        text-align: right;\n",
       "    }\n",
       "</style>\n",
       "<table border=\"1\" class=\"dataframe\">\n",
       "  <thead>\n",
       "    <tr style=\"text-align: right;\">\n",
       "      <th></th>\n",
       "      <th>Glasgow</th>\n",
       "      <th>Manchester</th>\n",
       "      <th>Birmingham</th>\n",
       "      <th>Plymouth</th>\n",
       "    </tr>\n",
       "  </thead>\n",
       "  <tbody>\n",
       "    <tr>\n",
       "      <th>0</th>\n",
       "      <td>100</td>\n",
       "      <td>250</td>\n",
       "      <td>95</td>\n",
       "      <td>160</td>\n",
       "    </tr>\n",
       "    <tr>\n",
       "      <th>1</th>\n",
       "      <td>150</td>\n",
       "      <td>143</td>\n",
       "      <td>195</td>\n",
       "      <td>99</td>\n",
       "    </tr>\n",
       "    <tr>\n",
       "      <th>2</th>\n",
       "      <td>135</td>\n",
       "      <td>80</td>\n",
       "      <td>242</td>\n",
       "      <td>55</td>\n",
       "    </tr>\n",
       "    <tr>\n",
       "      <th>3</th>\n",
       "      <td>83</td>\n",
       "      <td>225</td>\n",
       "      <td>111</td>\n",
       "      <td>96</td>\n",
       "    </tr>\n",
       "    <tr>\n",
       "      <th>4</th>\n",
       "      <td>120</td>\n",
       "      <td>210</td>\n",
       "      <td>70</td>\n",
       "      <td>115</td>\n",
       "    </tr>\n",
       "    <tr>\n",
       "      <th>5</th>\n",
       "      <td>230</td>\n",
       "      <td>98</td>\n",
       "      <td>124</td>\n",
       "      <td>80</td>\n",
       "    </tr>\n",
       "  </tbody>\n",
       "</table>\n",
       "</div>"
      ],
      "text/plain": [
       "   Glasgow  Manchester  Birmingham  Plymouth\n",
       "0      100         250          95       160\n",
       "1      150         143         195        99\n",
       "2      135          80         242        55\n",
       "3       83         225         111        96\n",
       "4      120         210          70       115\n",
       "5      230          98         124        80"
      ]
     },
     "execution_count": 98,
     "metadata": {},
     "output_type": "execute_result"
    }
   ],
   "source": [
    "dddd = pd.read_excel(\"../data/car_rental/demands.xlsx\",index_col=0)\n",
    "dddd"
   ]
  },
  {
   "cell_type": "code",
   "execution_count": 5,
   "id": "0987bb6d",
   "metadata": {},
   "outputs": [
    {
     "data": {
      "text/html": [
       "<div>\n",
       "<style scoped>\n",
       "    .dataframe tbody tr th:only-of-type {\n",
       "        vertical-align: middle;\n",
       "    }\n",
       "\n",
       "    .dataframe tbody tr th {\n",
       "        vertical-align: top;\n",
       "    }\n",
       "\n",
       "    .dataframe thead th {\n",
       "        text-align: right;\n",
       "    }\n",
       "</style>\n",
       "<table border=\"1\" class=\"dataframe\">\n",
       "  <thead>\n",
       "    <tr style=\"text-align: right;\">\n",
       "      <th></th>\n",
       "      <th>capacity</th>\n",
       "    </tr>\n",
       "  </thead>\n",
       "  <tbody>\n",
       "    <tr>\n",
       "      <th>Glasgow</th>\n",
       "      <td>0</td>\n",
       "    </tr>\n",
       "    <tr>\n",
       "      <th>Manchester</th>\n",
       "      <td>12</td>\n",
       "    </tr>\n",
       "    <tr>\n",
       "      <th>Birmingham</th>\n",
       "      <td>20</td>\n",
       "    </tr>\n",
       "    <tr>\n",
       "      <th>Plymouth</th>\n",
       "      <td>0</td>\n",
       "    </tr>\n",
       "  </tbody>\n",
       "</table>\n",
       "</div>"
      ],
      "text/plain": [
       "           capacity\n",
       "Glasgow           0\n",
       "Manchester       12\n",
       "Birmingham       20\n",
       "Plymouth          0"
      ]
     },
     "execution_count": 5,
     "metadata": {},
     "output_type": "execute_result"
    }
   ],
   "source": [
    "#repairCap\n",
    "capacities = [0,12,20,0]\n",
    "capacity_df = pd.DataFrame(columns=[\"capacity\"])\n",
    "i = 0\n",
    "for depot in depots:\n",
    "    capacity_df.loc[depot,\"capacity\"] = capacities[i]\n",
    "    i += 1\n",
    "capacity_df.to_excel(\"../data/car_rental/repair_capacity.xlsx\")\n",
    "capacity_df"
   ]
  },
  {
   "cell_type": "code",
   "execution_count": 99,
   "id": "7bced50b",
   "metadata": {},
   "outputs": [
    {
     "data": {
      "text/html": [
       "<div>\n",
       "<style scoped>\n",
       "    .dataframe tbody tr th:only-of-type {\n",
       "        vertical-align: middle;\n",
       "    }\n",
       "\n",
       "    .dataframe tbody tr th {\n",
       "        vertical-align: top;\n",
       "    }\n",
       "\n",
       "    .dataframe thead th {\n",
       "        text-align: right;\n",
       "    }\n",
       "</style>\n",
       "<table border=\"1\" class=\"dataframe\">\n",
       "  <thead>\n",
       "    <tr style=\"text-align: right;\">\n",
       "      <th></th>\n",
       "      <th>capacity</th>\n",
       "    </tr>\n",
       "  </thead>\n",
       "  <tbody>\n",
       "    <tr>\n",
       "      <th>Glasgow</th>\n",
       "      <td>0</td>\n",
       "    </tr>\n",
       "    <tr>\n",
       "      <th>Manchester</th>\n",
       "      <td>12</td>\n",
       "    </tr>\n",
       "    <tr>\n",
       "      <th>Birmingham</th>\n",
       "      <td>20</td>\n",
       "    </tr>\n",
       "    <tr>\n",
       "      <th>Plymouth</th>\n",
       "      <td>0</td>\n",
       "    </tr>\n",
       "  </tbody>\n",
       "</table>\n",
       "</div>"
      ],
      "text/plain": [
       "            capacity\n",
       "Glasgow            0\n",
       "Manchester        12\n",
       "Birmingham        20\n",
       "Plymouth           0"
      ]
     },
     "execution_count": 99,
     "metadata": {},
     "output_type": "execute_result"
    }
   ],
   "source": [
    "dddd = pd.read_excel(\"../data/car_rental/repair_capacity.xlsx\",index_col=0)\n",
    "dddd"
   ]
  },
  {
   "cell_type": "code",
   "execution_count": 81,
   "id": "1eca2a55",
   "metadata": {},
   "outputs": [
    {
     "data": {
      "text/plain": [
       "['Manchester', 'Birmingham']"
      ]
     },
     "execution_count": 81,
     "metadata": {},
     "output_type": "execute_result"
    }
   ],
   "source": []
  },
  {
   "cell_type": "code",
   "execution_count": 6,
   "id": "e328cb76",
   "metadata": {},
   "outputs": [
    {
     "data": {
      "text/html": [
       "<div>\n",
       "<style scoped>\n",
       "    .dataframe tbody tr th:only-of-type {\n",
       "        vertical-align: middle;\n",
       "    }\n",
       "\n",
       "    .dataframe tbody tr th {\n",
       "        vertical-align: top;\n",
       "    }\n",
       "\n",
       "    .dataframe thead th {\n",
       "        text-align: right;\n",
       "    }\n",
       "</style>\n",
       "<table border=\"1\" class=\"dataframe\">\n",
       "  <thead>\n",
       "    <tr style=\"text-align: right;\">\n",
       "      <th></th>\n",
       "      <th>Glasgow</th>\n",
       "      <th>Manchester</th>\n",
       "      <th>Birmingham</th>\n",
       "      <th>Plymouth</th>\n",
       "    </tr>\n",
       "  </thead>\n",
       "  <tbody>\n",
       "    <tr>\n",
       "      <th>Glasgow</th>\n",
       "      <td>0.60</td>\n",
       "      <td>0.20</td>\n",
       "      <td>0.10</td>\n",
       "      <td>0.10</td>\n",
       "    </tr>\n",
       "    <tr>\n",
       "      <th>Manchester</th>\n",
       "      <td>0.15</td>\n",
       "      <td>0.55</td>\n",
       "      <td>0.25</td>\n",
       "      <td>0.05</td>\n",
       "    </tr>\n",
       "    <tr>\n",
       "      <th>Birmingham</th>\n",
       "      <td>0.15</td>\n",
       "      <td>0.20</td>\n",
       "      <td>0.54</td>\n",
       "      <td>0.11</td>\n",
       "    </tr>\n",
       "    <tr>\n",
       "      <th>Plymouth</th>\n",
       "      <td>0.08</td>\n",
       "      <td>0.12</td>\n",
       "      <td>0.27</td>\n",
       "      <td>0.53</td>\n",
       "    </tr>\n",
       "  </tbody>\n",
       "</table>\n",
       "</div>"
      ],
      "text/plain": [
       "            Glasgow  Manchester  Birmingham  Plymouth\n",
       "Glasgow        0.60        0.20        0.10      0.10\n",
       "Manchester     0.15        0.55        0.25      0.05\n",
       "Birmingham     0.15        0.20        0.54      0.11\n",
       "Plymouth       0.08        0.12        0.27      0.53"
      ]
     },
     "execution_count": 6,
     "metadata": {},
     "output_type": "execute_result"
    }
   ],
   "source": [
    "rent_to_return = [[0.6,0.2,0.1,0.1],\n",
    "                 [0.15,0.55,0.25,0.05],\n",
    "                 [0.15,0.2,0.54,0.11],\n",
    "                 [0.08,0.12,0.27,0.53]]\n",
    "i = 0\n",
    "rent_to_return_df = pd.DataFrame(columns=depots)\n",
    "for depot in depots:\n",
    "    rent_to_return_df.loc[depot] = rent_to_return[i]\n",
    "    i += 1    \n",
    "rent_to_return_df.to_excel(\"../data/car_rental/rent_to_return.xlsx\")\n",
    "rent_to_return_df"
   ]
  },
  {
   "cell_type": "code",
   "execution_count": 7,
   "id": "95343c98",
   "metadata": {},
   "outputs": [
    {
     "data": {
      "text/html": [
       "<div>\n",
       "<style scoped>\n",
       "    .dataframe tbody tr th:only-of-type {\n",
       "        vertical-align: middle;\n",
       "    }\n",
       "\n",
       "    .dataframe tbody tr th {\n",
       "        vertical-align: top;\n",
       "    }\n",
       "\n",
       "    .dataframe thead th {\n",
       "        text-align: right;\n",
       "    }\n",
       "</style>\n",
       "<table border=\"1\" class=\"dataframe\">\n",
       "  <thead>\n",
       "    <tr style=\"text-align: right;\">\n",
       "      <th></th>\n",
       "      <th>Glasgow</th>\n",
       "      <th>Manchester</th>\n",
       "      <th>Birmingham</th>\n",
       "      <th>Plymouth</th>\n",
       "    </tr>\n",
       "  </thead>\n",
       "  <tbody>\n",
       "    <tr>\n",
       "      <th>Glasgow</th>\n",
       "      <td>0</td>\n",
       "      <td>20</td>\n",
       "      <td>30</td>\n",
       "      <td>50</td>\n",
       "    </tr>\n",
       "    <tr>\n",
       "      <th>Manchester</th>\n",
       "      <td>20</td>\n",
       "      <td>0</td>\n",
       "      <td>15</td>\n",
       "      <td>35</td>\n",
       "    </tr>\n",
       "    <tr>\n",
       "      <th>Birmingham</th>\n",
       "      <td>30</td>\n",
       "      <td>15</td>\n",
       "      <td>0</td>\n",
       "      <td>25</td>\n",
       "    </tr>\n",
       "    <tr>\n",
       "      <th>Plymouth</th>\n",
       "      <td>50</td>\n",
       "      <td>35</td>\n",
       "      <td>25</td>\n",
       "      <td>0</td>\n",
       "    </tr>\n",
       "  </tbody>\n",
       "</table>\n",
       "</div>"
      ],
      "text/plain": [
       "           Glasgow Manchester Birmingham Plymouth\n",
       "Glasgow          0         20         30       50\n",
       "Manchester      20          0         15       35\n",
       "Birmingham      30         15          0       25\n",
       "Plymouth        50         35         25        0"
      ]
     },
     "execution_count": 7,
     "metadata": {},
     "output_type": "execute_result"
    }
   ],
   "source": [
    "transfers = [[0,20,30,50],\n",
    "            [20,0,15,35],\n",
    "            [30,15,0,25],\n",
    "            [50,35,25,0]]\n",
    "i = 0\n",
    "transfers_df = pd.DataFrame(columns=depots)\n",
    "for depot in depots:\n",
    "    transfers_df.loc[depot] = transfers[i]\n",
    "    i += 1    \n",
    "transfers_df.to_excel(\"../data/car_rental/transfers.xlsx\")\n",
    "transfers_df"
   ]
  },
  {
   "cell_type": "code",
   "execution_count": 8,
   "id": "6c20bb13",
   "metadata": {},
   "outputs": [
    {
     "data": {
      "text/html": [
       "<div>\n",
       "<style scoped>\n",
       "    .dataframe tbody tr th:only-of-type {\n",
       "        vertical-align: middle;\n",
       "    }\n",
       "\n",
       "    .dataframe tbody tr th {\n",
       "        vertical-align: top;\n",
       "    }\n",
       "\n",
       "    .dataframe thead th {\n",
       "        text-align: right;\n",
       "    }\n",
       "</style>\n",
       "<table border=\"1\" class=\"dataframe\">\n",
       "  <thead>\n",
       "    <tr style=\"text-align: right;\">\n",
       "      <th></th>\n",
       "      <th>Q</th>\n",
       "      <th>CS</th>\n",
       "      <th>RCA</th>\n",
       "      <th>RCB</th>\n",
       "    </tr>\n",
       "  </thead>\n",
       "  <tbody>\n",
       "    <tr>\n",
       "      <th>1</th>\n",
       "      <td>0.55</td>\n",
       "      <td>20.0</td>\n",
       "      <td>50.0</td>\n",
       "      <td>70.0</td>\n",
       "    </tr>\n",
       "    <tr>\n",
       "      <th>2</th>\n",
       "      <td>0.20</td>\n",
       "      <td>25.0</td>\n",
       "      <td>70.0</td>\n",
       "      <td>100.0</td>\n",
       "    </tr>\n",
       "    <tr>\n",
       "      <th>3</th>\n",
       "      <td>0.25</td>\n",
       "      <td>30.0</td>\n",
       "      <td>120.0</td>\n",
       "      <td>150.0</td>\n",
       "    </tr>\n",
       "  </tbody>\n",
       "</table>\n",
       "</div>"
      ],
      "text/plain": [
       "      Q    CS    RCA    RCB\n",
       "1  0.55  20.0   50.0   70.0\n",
       "2  0.20  25.0   70.0  100.0\n",
       "3  0.25  30.0  120.0  150.0"
      ]
     },
     "execution_count": 8,
     "metadata": {},
     "output_type": "execute_result"
    }
   ],
   "source": [
    "#### 其他参数\n",
    "other_cost = [[0.55,20,50,70],\n",
    "             [0.20,25,70,100],\n",
    "             [0.25,30,120,150]]\n",
    "other_cost_df = pd.DataFrame(columns=[\"Q\",\"CS\",\"RCA\",\"RCB\"])\n",
    "for k in rentDays:\n",
    "    other_cost_df.loc[k] = other_cost[k-1]\n",
    "other_cost_df.to_excel(\"../data/car_rental/other_costs.xlsx\")\n",
    "    \n",
    "other_cost_df"
   ]
  },
  {
   "cell_type": "code",
   "execution_count": 9,
   "id": "21eacd2d",
   "metadata": {},
   "outputs": [],
   "source": [
    "\n",
    "PD = 0.1\n",
    "CO = 15\n",
    "DF = 10"
   ]
  },
  {
   "cell_type": "code",
   "execution_count": null,
   "id": "6a1339c4",
   "metadata": {},
   "outputs": [],
   "source": []
  },
  {
   "cell_type": "code",
   "execution_count": null,
   "id": "196c303d",
   "metadata": {},
   "outputs": [],
   "source": []
  },
  {
   "cell_type": "code",
   "execution_count": 10,
   "id": "921324b0",
   "metadata": {},
   "outputs": [],
   "source": [
    "import pyscipopt as scip"
   ]
  },
  {
   "cell_type": "code",
   "execution_count": 70,
   "id": "f47c5290",
   "metadata": {},
   "outputs": [],
   "source": [
    "model = scip.Model()"
   ]
  },
  {
   "cell_type": "code",
   "execution_count": 71,
   "id": "f26bc8d3",
   "metadata": {},
   "outputs": [],
   "source": [
    "# 变量定义\n",
    "n = model.addVar(name=\"num_cars\")\n",
    "nu = dict()\n",
    "nd = dict()\n",
    "tr = dict()\n",
    "eu = dict()\n",
    "ed = dict()\n",
    "rp = dict()\n",
    "for depot in depots:\n",
    "    for day in days:\n",
    "        nu[(depot,day)] = model.addVar(name=\"num_ud_cars(%s,%s)\"%(depot,day))\n",
    "        nd[(depot,day)] = model.addVar(name=\"num_d_cars(%s,%s)\"%(depot,day))\n",
    "        tr[(depot,day)] = model.addVar(name=\"num_h_cars(%s,%s)\"%(depot,day),lb=0,ub=demand_df.loc[day,depot])\n",
    "        eu[(depot,day)] = model.addVar(name=\"end_inv_ud(%s,%s)\"%(depot,day))\n",
    "        ed[(depot,day)] = model.addVar(name=\"end_inv_d(%s,%s)\"%(depot,day))\n",
    "        rp[(depot,day)] = model.addVar(name=\"repair_num_cars(%s,%s)\"%(depot,day),lb=0,ub=capacity_df.loc[depot,\"capacity\"])\n",
    "        \n",
    "tu = dict()\n",
    "td = dict()\n",
    "for depot_i in depots:\n",
    "    for depot_j in depots:\n",
    "        for day in days:\n",
    "            tu[(depot_i,depot_j,day)] = model.addVar(name=\"trans_ud(%s,%s,%s)\"%(depot_i,depot_j,day))\n",
    "            td[(depot_i,depot_j,day)] = model.addVar(name=\"trans_d(%s,%s,%s)\"%(depot_i,depot_j,day))\n"
   ]
  },
  {
   "cell_type": "code",
   "execution_count": 72,
   "id": "0bf1de56",
   "metadata": {},
   "outputs": [
    {
     "data": {
      "text/plain": [
       "c97"
      ]
     },
     "execution_count": 72,
     "metadata": {},
     "output_type": "execute_result"
    }
   ],
   "source": [
    "# 约束\n",
    "## 1、2\n",
    "for depot in depots:\n",
    "    for day in days:\n",
    "        pre_day = (day-1)%6\n",
    "        model.addCons(scip.quicksum((1-PD)*rent_to_return_df.loc[other_depot,depot] * other_cost_df.loc[k,\"Q\"] * tr[(other_depot,(day-k)%6)] \n",
    "                                   for other_depot in depots for k in rentDays) \n",
    "                      + scip.quicksum(tu[(other_depot,depot,pre_day)] for other_depot in depots)\n",
    "                     + rp[(depot,pre_day)] + eu[(depot,pre_day)] == nu[(depot,day)])\n",
    "\n",
    "        model.addCons(scip.quicksum(PD*rent_to_return_df.loc[other_depot,depot]* other_cost_df.loc[k,\"Q\"] * tr[(other_depot,(day-k)%6)] \n",
    "                                   for other_depot in depots for k in rentDays) \n",
    "                     + scip.quicksum(td[(other_depot,depot,pre_day)] for other_depot in depots) + ed[(depot,pre_day)] == nd[(depot,day)])\n",
    "\n",
    "#         model.addCons(tr[(depot,day)] + scip.quicksum(tu[(depot,other_depot,day)] for other_depot in depots) + rp[(depot,pre_day)] \n",
    "#                       + eu[(depot,day)] == nu[(depot,day)])\n",
    "        model.addCons(tr[(depot,day)] + scip.quicksum(tu[(depot,other_depot,day)] for other_depot in depots)\n",
    "                      + eu[(depot,day)] == nu[(depot,day)])        \n",
    "        model.addCons(scip.quicksum(td[(depot,other_depot,day)] for other_depot in depots) + rp[(depot,pre_day)] \n",
    "                      + ed[(depot,day)] == nd[(depot,day)])\n",
    "\n",
    "\n",
    "model.addCons(scip.quicksum(0.25*tr[(depot,0)] + 0.45*tr[(depot,1)] + nu[(depot,2)] + nd[(depot,2)] for depot in depots) == n)"
   ]
  },
  {
   "cell_type": "code",
   "execution_count": 73,
   "id": "2fb8153a",
   "metadata": {},
   "outputs": [],
   "source": [
    "obj_1 = scip.quicksum(rent_to_return_df.loc[depot,depot]*other_cost_df.loc[k,\"Q\"]*\n",
    "                      (other_cost_df.loc[k,\"RCA\"] -other_cost_df.loc[k,\"CS\"] + DF)*tr[(depot,day)] for depot in depots for k in rentDays\n",
    "                     for day in days)\n",
    "\n",
    "obj_2 = scip.quicksum(rent_to_return_df.loc[depot_i,depot_j]*other_cost_df.loc[k,\"Q\"]*\n",
    "                     (other_cost_df.loc[k,\"RCB\"] -other_cost_df.loc[k,\"CS\"] + DF)*tr[(depot,day)] \n",
    "                      for depot_i in depots for depot_j in depots for k in rentDays for day in days)\n",
    "\n",
    "obj_3 = scip.quicksum(transfers_df.loc[depot_i,depot_j]*(tu[(depot_i,depot_j,day)] +td[(depot_i,depot_j,day)]) \n",
    "                      for depot_i in depots for depot_j in depots for day in days)\n",
    "obj = obj_1 + obj_2 - obj_3 - CO*n\n",
    "model.setObjective(obj,\"maximize\")"
   ]
  },
  {
   "cell_type": "code",
   "execution_count": 74,
   "id": "5a824fea",
   "metadata": {},
   "outputs": [],
   "source": [
    "model.optimize()"
   ]
  },
  {
   "cell_type": "code",
   "execution_count": null,
   "id": "061c323c",
   "metadata": {},
   "outputs": [],
   "source": []
  },
  {
   "cell_type": "markdown",
   "id": "7c978727",
   "metadata": {},
   "source": [
    "### 结果分析"
   ]
  },
  {
   "cell_type": "code",
   "execution_count": 75,
   "id": "391ebda1",
   "metadata": {},
   "outputs": [
    {
     "name": "stdout",
     "output_type": "stream",
     "text": [
      "The optimal number of cars to be owned is: 636.\n",
      "The optimal profit is: $243,912.29.\n"
     ]
    }
   ],
   "source": [
    "# Output report\n",
    "\n",
    "# Total number of cars owned\n",
    "print(f\"The optimal number of cars to be owned is: {round(model.getVal(n))}.\")\n",
    "\n",
    "# Optimal profit\n",
    "print(f\"The optimal profit is: {'${:,.2f}'.format(round(model.getObjVal(),2))}.\")"
   ]
  },
  {
   "cell_type": "code",
   "execution_count": 63,
   "id": "4131303b",
   "metadata": {},
   "outputs": [
    {
     "name": "stdout",
     "output_type": "stream",
     "text": [
      "\n",
      "\n",
      "_________________________________________________________________________________\n",
      "Estimated number of undamaged cars in depot at the beginning of each day: \n",
      "_________________________________________________________________________________\n"
     ]
    },
    {
     "data": {
      "text/html": [
       "<div>\n",
       "<style scoped>\n",
       "    .dataframe tbody tr th:only-of-type {\n",
       "        vertical-align: middle;\n",
       "    }\n",
       "\n",
       "    .dataframe tbody tr th {\n",
       "        vertical-align: top;\n",
       "    }\n",
       "\n",
       "    .dataframe thead th {\n",
       "        text-align: right;\n",
       "    }\n",
       "</style>\n",
       "<table border=\"1\" class=\"dataframe\">\n",
       "  <thead>\n",
       "    <tr style=\"text-align: right;\">\n",
       "      <th></th>\n",
       "      <th>Day</th>\n",
       "      <th>Glasgow</th>\n",
       "      <th>Manchester</th>\n",
       "      <th>Birmingham</th>\n",
       "      <th>Plymouth</th>\n",
       "    </tr>\n",
       "  </thead>\n",
       "  <tbody>\n",
       "    <tr>\n",
       "      <th></th>\n",
       "      <td>Monday</td>\n",
       "      <td>58</td>\n",
       "      <td>87</td>\n",
       "      <td>87</td>\n",
       "      <td>160</td>\n",
       "    </tr>\n",
       "    <tr>\n",
       "      <th></th>\n",
       "      <td>Tuesday</td>\n",
       "      <td>62</td>\n",
       "      <td>92</td>\n",
       "      <td>106</td>\n",
       "      <td>99</td>\n",
       "    </tr>\n",
       "    <tr>\n",
       "      <th></th>\n",
       "      <td>Wednesday</td>\n",
       "      <td>63</td>\n",
       "      <td>93</td>\n",
       "      <td>109</td>\n",
       "      <td>68</td>\n",
       "    </tr>\n",
       "    <tr>\n",
       "      <th></th>\n",
       "      <td>Thursday</td>\n",
       "      <td>63</td>\n",
       "      <td>103</td>\n",
       "      <td>108</td>\n",
       "      <td>96</td>\n",
       "    </tr>\n",
       "    <tr>\n",
       "      <th></th>\n",
       "      <td>Friday</td>\n",
       "      <td>63</td>\n",
       "      <td>93</td>\n",
       "      <td>104</td>\n",
       "      <td>115</td>\n",
       "    </tr>\n",
       "    <tr>\n",
       "      <th></th>\n",
       "      <td>Saturday</td>\n",
       "      <td>63</td>\n",
       "      <td>92</td>\n",
       "      <td>104</td>\n",
       "      <td>96</td>\n",
       "    </tr>\n",
       "  </tbody>\n",
       "</table>\n",
       "</div>"
      ],
      "text/plain": [
       "        Day Glasgow Manchester Birmingham Plymouth\n",
       "     Monday      58         87         87      160\n",
       "    Tuesday      62         92        106       99\n",
       "  Wednesday      63         93        109       68\n",
       "   Thursday      63        103        108       96\n",
       "     Friday      63         93        104      115\n",
       "   Saturday      63         92        104       96"
      ]
     },
     "execution_count": 63,
     "metadata": {},
     "output_type": "execute_result"
    }
   ],
   "source": [
    "# Create a list to translate the number label of each day to the actual name of the day\n",
    "dayname = ['Monday','Tuesday','Wednesday','Thursday','Friday','Saturday']\n",
    "\n",
    "# Number of undamaged cars in depot at the beginning of each day.\n",
    "print(\"\\n\\n_________________________________________________________________________________\")\n",
    "print(f\"Estimated number of undamaged cars in depot at the beginning of each day: \")\n",
    "print(\"_________________________________________________________________________________\")\n",
    "\n",
    "undamaged_cars = pd.DataFrame(columns=['Day','Glasgow','Manchester','Birmingham','Plymouth'])\n",
    "for t in days:\n",
    "    undamaged_cars = undamaged_cars.append({\"Day\": dayname[t], \"Glasgow\": round(model.getVal(nu['Glasgow',t])),\n",
    "                                            \"Manchester\":  round(model.getVal(nu['Manchester',t])),\n",
    "                                            'Birmingham':  round(model.getVal(nu['Birmingham',t])),\n",
    "                                            'Plymouth': round(model.getVal(nu['Plymouth',t]))   }, ignore_index=True) \n",
    "undamaged_cars.index=[''] * len(undamaged_cars)\n",
    "undamaged_cars"
   ]
  },
  {
   "cell_type": "code",
   "execution_count": 64,
   "id": "ccebb048",
   "metadata": {},
   "outputs": [
    {
     "name": "stdout",
     "output_type": "stream",
     "text": [
      "_________________________________________________________________________________\n",
      "Estimated number of damaged cars in depot at the beginning of each day: \n",
      "_________________________________________________________________________________\n"
     ]
    },
    {
     "data": {
      "text/html": [
       "<div>\n",
       "<style scoped>\n",
       "    .dataframe tbody tr th:only-of-type {\n",
       "        vertical-align: middle;\n",
       "    }\n",
       "\n",
       "    .dataframe tbody tr th {\n",
       "        vertical-align: top;\n",
       "    }\n",
       "\n",
       "    .dataframe thead th {\n",
       "        text-align: right;\n",
       "    }\n",
       "</style>\n",
       "<table border=\"1\" class=\"dataframe\">\n",
       "  <thead>\n",
       "    <tr style=\"text-align: right;\">\n",
       "      <th></th>\n",
       "      <th>Day</th>\n",
       "      <th>Glasgow</th>\n",
       "      <th>Manchester</th>\n",
       "      <th>Birmingham</th>\n",
       "      <th>Plymouth</th>\n",
       "    </tr>\n",
       "  </thead>\n",
       "  <tbody>\n",
       "    <tr>\n",
       "      <th></th>\n",
       "      <td>Monday</td>\n",
       "      <td>6</td>\n",
       "      <td>12</td>\n",
       "      <td>20</td>\n",
       "      <td>7</td>\n",
       "    </tr>\n",
       "    <tr>\n",
       "      <th></th>\n",
       "      <td>Tuesday</td>\n",
       "      <td>7</td>\n",
       "      <td>12</td>\n",
       "      <td>20</td>\n",
       "      <td>9</td>\n",
       "    </tr>\n",
       "    <tr>\n",
       "      <th></th>\n",
       "      <td>Wednesday</td>\n",
       "      <td>7</td>\n",
       "      <td>14</td>\n",
       "      <td>20</td>\n",
       "      <td>8</td>\n",
       "    </tr>\n",
       "    <tr>\n",
       "      <th></th>\n",
       "      <td>Thursday</td>\n",
       "      <td>7</td>\n",
       "      <td>12</td>\n",
       "      <td>23</td>\n",
       "      <td>7</td>\n",
       "    </tr>\n",
       "    <tr>\n",
       "      <th></th>\n",
       "      <td>Friday</td>\n",
       "      <td>7</td>\n",
       "      <td>15</td>\n",
       "      <td>20</td>\n",
       "      <td>7</td>\n",
       "    </tr>\n",
       "    <tr>\n",
       "      <th></th>\n",
       "      <td>Saturday</td>\n",
       "      <td>7</td>\n",
       "      <td>12</td>\n",
       "      <td>20</td>\n",
       "      <td>10</td>\n",
       "    </tr>\n",
       "  </tbody>\n",
       "</table>\n",
       "</div>"
      ],
      "text/plain": [
       "        Day Glasgow Manchester Birmingham Plymouth\n",
       "     Monday       6         12         20        7\n",
       "    Tuesday       7         12         20        9\n",
       "  Wednesday       7         14         20        8\n",
       "   Thursday       7         12         23        7\n",
       "     Friday       7         15         20        7\n",
       "   Saturday       7         12         20       10"
      ]
     },
     "execution_count": 64,
     "metadata": {},
     "output_type": "execute_result"
    }
   ],
   "source": [
    "# Number of Damaged cars in depot at the beginning of each day.\n",
    "print(\"_________________________________________________________________________________\")\n",
    "print(f\"Estimated number of damaged cars in depot at the beginning of each day: \")\n",
    "print(\"_________________________________________________________________________________\")\n",
    "\n",
    "damaged_cars = pd.DataFrame(columns=['Day','Glasgow','Manchester','Birmingham','Plymouth'])\n",
    "for t in days:\n",
    "    damaged_cars = damaged_cars.append({\"Day\": dayname[t], \"Glasgow\": round(model.getVal(nd['Glasgow',t])),\n",
    "                                        \"Manchester\":  round(model.getVal(nd['Manchester',t])),\n",
    "                                        'Birmingham':  round(model.getVal(nd['Birmingham',t])),\n",
    "                                        'Plymouth': round(model.getVal(nd['Plymouth',t]))   }, ignore_index=True) \n",
    "damaged_cars.index=[''] * len(damaged_cars)\n",
    "damaged_cars"
   ]
  },
  {
   "cell_type": "code",
   "execution_count": 68,
   "id": "478d02de",
   "metadata": {},
   "outputs": [
    {
     "name": "stdout",
     "output_type": "stream",
     "text": [
      "_________________________________________________________________________________\n",
      "Estimated number of undamaged cars rented out from each depot and day: \n",
      "_________________________________________________________________________________\n"
     ]
    },
    {
     "data": {
      "text/html": [
       "<div>\n",
       "<style scoped>\n",
       "    .dataframe tbody tr th:only-of-type {\n",
       "        vertical-align: middle;\n",
       "    }\n",
       "\n",
       "    .dataframe tbody tr th {\n",
       "        vertical-align: top;\n",
       "    }\n",
       "\n",
       "    .dataframe thead th {\n",
       "        text-align: right;\n",
       "    }\n",
       "</style>\n",
       "<table border=\"1\" class=\"dataframe\">\n",
       "  <thead>\n",
       "    <tr style=\"text-align: right;\">\n",
       "      <th></th>\n",
       "      <th>Day</th>\n",
       "      <th>Glasgow</th>\n",
       "      <th>Manchester</th>\n",
       "      <th>Birmingham</th>\n",
       "      <th>Plymouth</th>\n",
       "    </tr>\n",
       "  </thead>\n",
       "  <tbody>\n",
       "    <tr>\n",
       "      <th></th>\n",
       "      <td>Monday</td>\n",
       "      <td>52</td>\n",
       "      <td>78</td>\n",
       "      <td>60</td>\n",
       "      <td>144</td>\n",
       "    </tr>\n",
       "    <tr>\n",
       "      <th></th>\n",
       "      <td>Tuesday</td>\n",
       "      <td>56</td>\n",
       "      <td>83</td>\n",
       "      <td>95</td>\n",
       "      <td>89</td>\n",
       "    </tr>\n",
       "    <tr>\n",
       "      <th></th>\n",
       "      <td>Wednesday</td>\n",
       "      <td>57</td>\n",
       "      <td>72</td>\n",
       "      <td>78</td>\n",
       "      <td>50</td>\n",
       "    </tr>\n",
       "    <tr>\n",
       "      <th></th>\n",
       "      <td>Thursday</td>\n",
       "      <td>56</td>\n",
       "      <td>93</td>\n",
       "      <td>47</td>\n",
       "      <td>86</td>\n",
       "    </tr>\n",
       "    <tr>\n",
       "      <th></th>\n",
       "      <td>Friday</td>\n",
       "      <td>57</td>\n",
       "      <td>84</td>\n",
       "      <td>63</td>\n",
       "      <td>104</td>\n",
       "    </tr>\n",
       "    <tr>\n",
       "      <th></th>\n",
       "      <td>Saturday</td>\n",
       "      <td>57</td>\n",
       "      <td>83</td>\n",
       "      <td>16</td>\n",
       "      <td>72</td>\n",
       "    </tr>\n",
       "  </tbody>\n",
       "</table>\n",
       "</div>"
      ],
      "text/plain": [
       "        Day Glasgow Manchester Birmingham Plymouth\n",
       "     Monday      52         78         60      144\n",
       "    Tuesday      56         83         95       89\n",
       "  Wednesday      57         72         78       50\n",
       "   Thursday      56         93         47       86\n",
       "     Friday      57         84         63      104\n",
       "   Saturday      57         83         16       72"
      ]
     },
     "execution_count": 68,
     "metadata": {},
     "output_type": "execute_result"
    }
   ],
   "source": [
    "# Undamaged car rented out from each depot and day.\n",
    "print(\"_________________________________________________________________________________\")\n",
    "print(f\"Estimated number of undamaged cars rented out from each depot and day: \")\n",
    "print(\"_________________________________________________________________________________\")\n",
    "\n",
    "rentedOut = {}\n",
    "\n",
    "for d in depots:\n",
    "    for t in days:\n",
    "        count = 0\n",
    "        for d2 in depots:\n",
    "            for r in rentDays:\n",
    "                #print(f\"Depot {d}, day {t}: cars rented out {tr[d,t].x}\")\n",
    "                count += (1-PD)*rent_to_return_df.loc[d,d2]*other_cost_df.loc[r,\"Q\"]*model.getVal(tr[d,t])\n",
    "        rentedOut[d,t] = round(count)\n",
    "    \n",
    "\n",
    "#print(rentedOut)\n",
    "\n",
    "rentout_cars = pd.DataFrame(columns=['Day','Glasgow','Manchester','Birmingham','Plymouth'])\n",
    "for t in days:\n",
    "    rentout_cars = rentout_cars.append({\"Day\": dayname[t], \"Glasgow\": round(rentedOut['Glasgow',t]), \"Manchester\":  round(rentedOut['Manchester',t]), 'Birmingham':  round(rentedOut['Birmingham',t]),'Plymouth': round(rentedOut['Plymouth',t])   }, ignore_index=True) \n",
    "rentout_cars.index=[''] * len(rentout_cars)\n",
    "rentout_cars"
   ]
  },
  {
   "cell_type": "code",
   "execution_count": null,
   "id": "6c5f111e",
   "metadata": {},
   "outputs": [],
   "source": []
  },
  {
   "cell_type": "code",
   "execution_count": 82,
   "id": "60732680",
   "metadata": {},
   "outputs": [],
   "source": [
    "x = dict()"
   ]
  },
  {
   "cell_type": "code",
   "execution_count": 83,
   "id": "c537e5dc",
   "metadata": {},
   "outputs": [],
   "source": [
    "x[\"a\"] = 1"
   ]
  },
  {
   "cell_type": "code",
   "execution_count": 84,
   "id": "01135789",
   "metadata": {},
   "outputs": [],
   "source": [
    "x[\"b\"] = 2"
   ]
  },
  {
   "cell_type": "code",
   "execution_count": 86,
   "id": "9be7f5ce",
   "metadata": {},
   "outputs": [],
   "source": [
    "x[(\"x\",\"y\")] = 2"
   ]
  },
  {
   "cell_type": "code",
   "execution_count": 87,
   "id": "e12f2ea1",
   "metadata": {},
   "outputs": [
    {
     "data": {
      "text/plain": [
       "{'a': 1, 'b': 2, ('x', 'y'): 2}"
      ]
     },
     "execution_count": 87,
     "metadata": {},
     "output_type": "execute_result"
    }
   ],
   "source": [
    "x"
   ]
  },
  {
   "cell_type": "code",
   "execution_count": 88,
   "id": "f78e21b2",
   "metadata": {},
   "outputs": [],
   "source": [
    "x[(\"x\",\"y\")] = 5"
   ]
  },
  {
   "cell_type": "code",
   "execution_count": 89,
   "id": "e1272712",
   "metadata": {},
   "outputs": [
    {
     "data": {
      "text/plain": [
       "{'a': 1, 'b': 2, ('x', 'y'): 5}"
      ]
     },
     "execution_count": 89,
     "metadata": {},
     "output_type": "execute_result"
    }
   ],
   "source": [
    "x"
   ]
  },
  {
   "cell_type": "code",
   "execution_count": 1,
   "id": "7d348f93",
   "metadata": {},
   "outputs": [],
   "source": [
    "import pyscipopt as scip"
   ]
  },
  {
   "cell_type": "code",
   "execution_count": 2,
   "id": "9ea98536",
   "metadata": {},
   "outputs": [],
   "source": [
    "model = scip.Model()"
   ]
  },
  {
   "cell_type": "code",
   "execution_count": 3,
   "id": "1e43ef4d",
   "metadata": {},
   "outputs": [
    {
     "name": "stdout",
     "output_type": "stream",
     "text": [
      "Help on built-in function addConsIndicator:\n",
      "\n",
      "addConsIndicator(...) method of pyscipopt.scip.Model instance\n",
      "    Add an indicator constraint for the linear inequality 'cons'.\n",
      "    \n",
      "    The 'binvar' argument models the redundancy of the linear constraint. A solution for which\n",
      "    'binvar' is 1 must satisfy the constraint.\n",
      "    \n",
      "    :param cons: a linear inequality of the form \"<=\"\n",
      "    :param binvar: binary indicator variable, or None if it should be created (Default value = None)\n",
      "    :param name: name of the constraint (Default value = \"IndicatorCons\")\n",
      "    :param initial: should the LP relaxation of constraint be in the initial LP? (Default value = True)\n",
      "    :param separate: should the constraint be separated during LP processing? (Default value = True)\n",
      "    :param enforce: should the constraint be enforced during node processing? (Default value = True)\n",
      "    :param check: should the constraint be checked for feasibility? (Default value = True)\n",
      "    :param propagate: should the constraint be propagated during node processing? (Default value = True)\n",
      "    :param local: is the constraint only valid locally? (Default value = False)\n",
      "    :param dynamic: is the constraint subject to aging? (Default value = False)\n",
      "    :param removable: should the relaxation be removed from the LP due to aging or cleanup? (Default value = False)\n",
      "    :param stickingatnode: should the constraint always be kept at the node where it was added, even if it may be moved to a more global node? (Default value = False)\n",
      "\n"
     ]
    }
   ],
   "source": [
    "help(model.addConsIndicator)"
   ]
  },
  {
   "cell_type": "code",
   "execution_count": null,
   "id": "d2d9c6f1",
   "metadata": {},
   "outputs": [],
   "source": []
  }
 ],
 "metadata": {
  "kernelspec": {
   "display_name": "Python 3",
   "language": "python",
   "name": "python3"
  },
  "language_info": {
   "codemirror_mode": {
    "name": "ipython",
    "version": 3
   },
   "file_extension": ".py",
   "mimetype": "text/x-python",
   "name": "python",
   "nbconvert_exporter": "python",
   "pygments_lexer": "ipython3",
   "version": "3.7.10"
  },
  "toc": {
   "base_numbering": 1,
   "nav_menu": {},
   "number_sections": true,
   "sideBar": true,
   "skip_h1_title": false,
   "title_cell": "Table of Contents",
   "title_sidebar": "Contents",
   "toc_cell": false,
   "toc_position": {},
   "toc_section_display": true,
   "toc_window_display": false
  }
 },
 "nbformat": 4,
 "nbformat_minor": 5
}
