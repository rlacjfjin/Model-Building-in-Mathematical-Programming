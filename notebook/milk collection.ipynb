{
 "cells": [
  {
   "cell_type": "code",
   "execution_count": 13,
   "id": "fc2c4b49",
   "metadata": {},
   "outputs": [],
   "source": [
    "from itertools import combinations\n",
    "import math"
   ]
  },
  {
   "cell_type": "code",
   "execution_count": 9,
   "id": "1af7969d",
   "metadata": {},
   "outputs": [],
   "source": [
    "data = {\n",
    "    0: [(0,0),0],\n",
    "    1: [(-3,3),5],\n",
    "    2: [(1,11),4],\n",
    "    3: [(4,7),3],\n",
    "    4: [(-5,9),6],\n",
    "    5: [(-5,-2),7],\n",
    "    6: [(-4,-7),3],\n",
    "    7: [(6,0),4],\n",
    "    8: [(3,-6),6],\n",
    "    9: [(-1,-3),5],\n",
    "    10: [(0,-6),4],\n",
    "    11: [(6,4),7],\n",
    "    12: [(2,5),3],\n",
    "    13: [(-2,8),4],\n",
    "    14: [(6,10),5],\n",
    "    15: [(1,8),6],\n",
    "    16: [(-3,1),8],\n",
    "    17: [(-6,5),5],\n",
    "    18: [(2,9),7],\n",
    "    19: [(-6,-5),6],\n",
    "    20: [(5,-4),6]\n",
    "}"
   ]
  },
  {
   "cell_type": "code",
   "execution_count": null,
   "id": "c46db8f2",
   "metadata": {},
   "outputs": [],
   "source": []
  },
  {
   "cell_type": "code",
   "execution_count": 10,
   "id": "25455a7c",
   "metadata": {},
   "outputs": [],
   "source": [
    "# List of farm  including the depot\n",
    "farms = [*range(0,21)]\n",
    "\n",
    "# List of farms that are visited everyday\n",
    "everyDay = [*range(0,10)]\n",
    "\n",
    "# List of farms that are visited each other day\n",
    "otherDay = [*range(10,21)]\n",
    "\n",
    "# List of day types\n",
    "dayType = [1,2]\n",
    "\n",
    "# Tanker lorry capacity (1,000)\n",
    "tankerCap = 80\n",
    "\n",
    "# Every day farms requirements\n",
    "everyDayReq = 0\n",
    "for i in everyDay:\n",
    "    everyDayReq += data[i][1]"
   ]
  },
  {
   "cell_type": "code",
   "execution_count": 14,
   "id": "0e71d153",
   "metadata": {},
   "outputs": [],
   "source": [
    "# Compute pairwise distance matrix\n",
    "# numpy linalg norm = euclidean n=2\n",
    "\n",
    "def distance(city1, city2):\n",
    "    c1 = data[city1][0]\n",
    "    c2 = data[city2][0]\n",
    "    diff = (c1[0]-c2[0], c1[1]-c2[1])\n",
    "    return math.sqrt(diff[0]*diff[0]+diff[1]*diff[1])\n",
    "\n",
    "dist = {(c1, c2): distance(c1, c2) for c1, c2 in combinations(farms, 2)}"
   ]
  },
  {
   "cell_type": "code",
   "execution_count": 16,
   "id": "4e7540f4",
   "metadata": {},
   "outputs": [],
   "source": [
    "import pyscipopt as scip"
   ]
  },
  {
   "cell_type": "code",
   "execution_count": 65,
   "id": "101f7c94",
   "metadata": {},
   "outputs": [],
   "source": [
    "m = scip.Model()\n",
    "edges = list(dist.keys())"
   ]
  },
  {
   "cell_type": "markdown",
   "id": "3424c4d4",
   "metadata": {},
   "source": [
    "Decision variables "
   ]
  },
  {
   "cell_type": "code",
   "execution_count": 66,
   "id": "156b20e1",
   "metadata": {},
   "outputs": [],
   "source": [
    "# Edge variables = 1, if farm 'i' is adjacent to farm 'j' on the tour of day type 'k'.\n",
    "x = dict()\n",
    "for i,j in edges:\n",
    "    for k in dayType:\n",
    "        x[(i,j,k)] = m.addVar(vtype=\"B\",name=\"x(%s,%s,%s)\"%(i,j,k))\n",
    "# Other day variables = 1, if farm 'i' is visited on the tour of day type 'k'.\n",
    "y = dict()\n",
    "for i in otherDay:\n",
    "    for k in dayType:\n",
    "        y[(i,k)] = m.addVar(vtype=\"B\",name=\"y(%s,%s)\"%(i,k))\n",
    "# Symmetry constraints: copy the object (not a constraint)\n",
    "for i,j,k in list(x.keys()):\n",
    "    x[(j, i, k)] = x[(i, j, k)]\n"
   ]
  },
  {
   "cell_type": "markdown",
   "id": "6a43e80a",
   "metadata": {},
   "source": [
    "constraints"
   ]
  },
  {
   "cell_type": "code",
   "execution_count": 67,
   "id": "a383c645",
   "metadata": {},
   "outputs": [],
   "source": [
    "# 1. Every day constraints: two edges incident to an every day farm on tour of day type 'k'. \n",
    "for i in otherDay:\n",
    "    for k in dayType:\n",
    "        m.addCons(scip.quicksum(x[(i,j,k)] for j in farms if (i,j) in edges) == 2)"
   ]
  },
  {
   "cell_type": "code",
   "execution_count": 68,
   "id": "aea14709",
   "metadata": {},
   "outputs": [],
   "source": [
    "# Other day constraints: two edges incident to an other day farm on tour of day type 'k'.\n",
    "for i in otherDay:\n",
    "    for k in dayType:\n",
    "        m.addCons(scip.quicksum(x[(i,j,k)] for j in farms if (i,j) in edges) == 2*y[(i,k)])"
   ]
  },
  {
   "cell_type": "code",
   "execution_count": 69,
   "id": "3f1b7c26",
   "metadata": {},
   "outputs": [],
   "source": [
    "# Tanker capacity constraint.\n",
    "for k in dayType:\n",
    "    m.addCons(scip.quicksum(data[i][1]*y[(i,k)] for i in otherDay) <= tankerCap - everyDayReq)"
   ]
  },
  {
   "cell_type": "code",
   "execution_count": 70,
   "id": "9422ce0d",
   "metadata": {},
   "outputs": [],
   "source": [
    "# Other day farms are visited on day type 1 or 2.\n",
    "for i in otherDay:\n",
    "    m.addCons(scip.quicksum(y[(i,k)] for k in dayType) == 1)"
   ]
  },
  {
   "cell_type": "code",
   "execution_count": 71,
   "id": "eaa5ddff",
   "metadata": {},
   "outputs": [],
   "source": [
    "# Avoid symmetric alternative solutions\n",
    "m.chgVarLb(y[(11,1)],1)"
   ]
  },
  {
   "cell_type": "markdown",
   "id": "0c00d0db",
   "metadata": {},
   "source": [
    "Objective"
   ]
  },
  {
   "cell_type": "code",
   "execution_count": 72,
   "id": "3003fed7",
   "metadata": {},
   "outputs": [],
   "source": [
    "# Objective function: minimize total distance travel\n",
    "m.setObjective(scip.quicksum(dist[i,j]*x[(i,j,k)] for i,j in edges for k in dayType))"
   ]
  },
  {
   "cell_type": "code",
   "execution_count": 73,
   "id": "d92916a4",
   "metadata": {},
   "outputs": [],
   "source": [
    "m.optimize()"
   ]
  },
  {
   "cell_type": "code",
   "execution_count": 74,
   "id": "1a13304e",
   "metadata": {},
   "outputs": [
    {
     "data": {
      "text/plain": [
       "'infeasible'"
      ]
     },
     "execution_count": 74,
     "metadata": {},
     "output_type": "execute_result"
    }
   ],
   "source": [
    "m.getStatus()"
   ]
  },
  {
   "cell_type": "code",
   "execution_count": null,
   "id": "cf2eb8dc",
   "metadata": {},
   "outputs": [],
   "source": []
  },
  {
   "cell_type": "code",
   "execution_count": null,
   "id": "4e0dc370",
   "metadata": {},
   "outputs": [],
   "source": []
  }
 ],
 "metadata": {
  "kernelspec": {
   "display_name": "Python 3",
   "language": "python",
   "name": "python3"
  },
  "language_info": {
   "codemirror_mode": {
    "name": "ipython",
    "version": 3
   },
   "file_extension": ".py",
   "mimetype": "text/x-python",
   "name": "python",
   "nbconvert_exporter": "python",
   "pygments_lexer": "ipython3",
   "version": "3.7.10"
  },
  "toc": {
   "base_numbering": 1,
   "nav_menu": {},
   "number_sections": true,
   "sideBar": true,
   "skip_h1_title": false,
   "title_cell": "Table of Contents",
   "title_sidebar": "Contents",
   "toc_cell": false,
   "toc_position": {},
   "toc_section_display": true,
   "toc_window_display": false
  }
 },
 "nbformat": 4,
 "nbformat_minor": 5
}
