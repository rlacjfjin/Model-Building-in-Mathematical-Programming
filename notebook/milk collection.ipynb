{
 "cells": [
  {
   "cell_type": "code",
   "execution_count": 2,
   "id": "fc2c4b49",
   "metadata": {},
   "outputs": [],
   "source": [
    "from itertools import combinations\n",
    "import math\n",
    "import networkx\n",
    "import matplotlib.pyplot as plt"
   ]
  },
  {
   "cell_type": "code",
   "execution_count": 3,
   "id": "1af7969d",
   "metadata": {},
   "outputs": [],
   "source": [
    "data = {\n",
    "    0: [(0,0),0],\n",
    "    1: [(-3,3),5],\n",
    "    2: [(1,11),4],\n",
    "    3: [(4,7),3],\n",
    "    4: [(-5,9),6],\n",
    "    5: [(-5,-2),7],\n",
    "    6: [(-4,-7),3],\n",
    "    7: [(6,0),4],\n",
    "    8: [(3,-6),6],\n",
    "    9: [(-1,-3),5],\n",
    "    10: [(0,-6),4],\n",
    "    11: [(6,4),7],\n",
    "    12: [(2,5),3],\n",
    "    13: [(-2,8),4],\n",
    "    14: [(6,10),5],\n",
    "    15: [(1,8),6],\n",
    "    16: [(-3,1),8],\n",
    "    17: [(-6,5),5],\n",
    "    18: [(2,9),7],\n",
    "    19: [(-6,-5),6],\n",
    "    20: [(5,-4),6]\n",
    "}"
   ]
  },
  {
   "cell_type": "code",
   "execution_count": 4,
   "id": "c46db8f2",
   "metadata": {},
   "outputs": [],
   "source": [
    "xy = {\n",
    "    0: (0,0),\n",
    "    1: (-3,3),\n",
    "    2: (1,11),\n",
    "    3: (4,7),\n",
    "    4: (-5,9),\n",
    "    5: (-5,-2),\n",
    "    6: (-4,-7),\n",
    "    7: (6,0),\n",
    "    8: (3,-6),\n",
    "    9: (-1,-3),\n",
    "    10: (0,-6),\n",
    "    11: (6,4),\n",
    "    12: (2,5),\n",
    "    13: (-2,8),\n",
    "    14: (6,10),\n",
    "    15: (1,8),\n",
    "    16: (-3,1),\n",
    "    17: (-6,5),\n",
    "    18: (2,9),\n",
    "    19: (-6,-5),\n",
    "    20: (5,-4)\n",
    "}"
   ]
  },
  {
   "cell_type": "code",
   "execution_count": 4,
   "id": "25455a7c",
   "metadata": {},
   "outputs": [],
   "source": [
    "# List of farm  including the depot\n",
    "farms = [*range(0,21)]\n",
    "\n",
    "# List of farms that are visited everyday\n",
    "everyDay = [*range(0,10)]\n",
    "\n",
    "# List of farms that are visited each other day\n",
    "otherDay = [*range(10,21)]\n",
    "\n",
    "# List of day types\n",
    "dayType = [1,2]\n",
    "\n",
    "# Tanker lorry capacity (1,000)\n",
    "tankerCap = 80\n",
    "\n",
    "# Every day farms requirements\n",
    "everyDayReq = 0\n",
    "for i in everyDay:\n",
    "    everyDayReq += data[i][1]"
   ]
  },
  {
   "cell_type": "code",
   "execution_count": 5,
   "id": "0e71d153",
   "metadata": {},
   "outputs": [],
   "source": [
    "# Compute pairwise distance matrix\n",
    "# numpy linalg norm = euclidean n=2\n",
    "\n",
    "def distance(city1, city2):\n",
    "    c1 = data[city1][0]\n",
    "    c2 = data[city2][0]\n",
    "    diff = (c1[0]-c2[0], c1[1]-c2[1])\n",
    "    return math.sqrt(diff[0]*diff[0]+diff[1]*diff[1])\n",
    "\n",
    "dist = {(c1, c2): distance(c1, c2) for c1, c2 in combinations(farms, 2)}"
   ]
  },
  {
   "cell_type": "code",
   "execution_count": 6,
   "id": "4e7540f4",
   "metadata": {},
   "outputs": [],
   "source": [
    "import pyscipopt as scip\n",
    "from pyscipopt import Model, Heur, Eventhdlr, Conshdlr, quicksum, SCIP_RESULT, SCIP_EVENTTYPE, SCIP_HEURTIMING"
   ]
  },
  {
   "cell_type": "code",
   "execution_count": 72,
   "id": "101f7c94",
   "metadata": {},
   "outputs": [],
   "source": [
    "m = scip.Model()\n",
    "edges = list(dist.keys())\n"
   ]
  },
  {
   "cell_type": "markdown",
   "id": "3424c4d4",
   "metadata": {},
   "source": [
    "Decision variables "
   ]
  },
  {
   "cell_type": "code",
   "execution_count": 73,
   "id": "156b20e1",
   "metadata": {},
   "outputs": [],
   "source": [
    "# Edge variables = 1, if farm 'i' is adjacent to farm 'j' on the tour of day type 'k'.\n",
    "x = dict()\n",
    "for i in farms:\n",
    "    for j in farms:\n",
    "        if i < j:\n",
    "            for k in dayType:\n",
    "                x[(i,j,k)] = m.addVar(vtype=\"B\",name=\"x(%s,%s,%s)\"%(i,j,k))\n",
    "# Other day variables = 1, if farm 'i' is visited on the tour of day type 'k'.\n",
    "y = dict()\n",
    "for i in otherDay:\n",
    "    for k in dayType:\n",
    "        y[(i,k)] = m.addVar(vtype=\"B\",name=\"y(%s,%s)\"%(i,k))\n",
    "# Symmetry constraints: copy the object (not a constraint)\n",
    "for i,j,k in list(x.keys()):\n",
    "    x[(j, i, k)] = x[(i, j, k)]\n"
   ]
  },
  {
   "cell_type": "markdown",
   "id": "6a43e80a",
   "metadata": {},
   "source": [
    "constraints"
   ]
  },
  {
   "cell_type": "code",
   "execution_count": 74,
   "id": "3f1b7c26",
   "metadata": {},
   "outputs": [],
   "source": [
    "# Tanker capacity constraint.\n",
    "for k in dayType:\n",
    "    m.addCons(scip.quicksum(data[i][1]*y[(i,k)] for i in otherDay) <= tankerCap - everyDayReq)"
   ]
  },
  {
   "cell_type": "code",
   "execution_count": 75,
   "id": "9422ce0d",
   "metadata": {},
   "outputs": [],
   "source": [
    "# Other day farms are visited on day type 1 or 2.\n",
    "for i in otherDay:\n",
    "    m.addCons(scip.quicksum(y[(i,k)] for k in dayType) == 1)"
   ]
  },
  {
   "cell_type": "code",
   "execution_count": 76,
   "id": "a383c645",
   "metadata": {},
   "outputs": [],
   "source": [
    "# 1. Every day constraints: two edges incident to an every day farm on tour of day type 'k'. \n",
    "for i in everyDay:\n",
    "    for k in dayType:\n",
    "        m.addCons(scip.quicksum(x[(i,j,k)] for j in farms if j>i) + \n",
    "                  scip.quicksum(x[(j,i,k)] for j in farms if j<i) == 2 )\n"
   ]
  },
  {
   "cell_type": "code",
   "execution_count": 77,
   "id": "aea14709",
   "metadata": {},
   "outputs": [],
   "source": [
    "# Other day constraints: two edges incident to an other day farm on tour of day type 'k'.\n",
    "for i in otherDay:\n",
    "    for k in dayType:\n",
    "        m.addCons(scip.quicksum(x[(i,j,k)] for j in farms if j>i) + \n",
    "          scip.quicksum(x[(j,i,k)] for j in farms if j<i) == 2*y[(i,k)] )\n"
   ]
  },
  {
   "cell_type": "code",
   "execution_count": 78,
   "id": "b58e88b8",
   "metadata": {},
   "outputs": [],
   "source": [
    "# for i in otherDay:\n",
    "#     for j in otherDay:\n",
    "#         if j > i:\n",
    "#             for k in dayType:\n",
    "#                 m.addCons(x[(i,j,k)] - y[(i,k)] <= 0)\n",
    "#     for j in farms:\n",
    "#         if i > j:\n",
    "#             for k in dayType:\n",
    "#                 m.addCons(x[(j,i,k)] - y[(i,k)] <= 0)"
   ]
  },
  {
   "cell_type": "code",
   "execution_count": 79,
   "id": "eaa5ddff",
   "metadata": {},
   "outputs": [],
   "source": [
    "# Avoid symmetric alternative solutions\n",
    "m.chgVarLb(y[(otherDay[0],dayType[0])],1)"
   ]
  },
  {
   "cell_type": "code",
   "execution_count": 80,
   "id": "8032e4e9",
   "metadata": {
    "code_folding": [
     3,
     35
    ]
   },
   "outputs": [],
   "source": [
    "class SEC(Conshdlr):\n",
    "\n",
    "    # method for creating a constraint of this constraint handler type\n",
    "    def createCons(self, name, variables):\n",
    "        model = self.model\n",
    "        cons = model.createCons(self, name)\n",
    "        \n",
    "        # data relevant for the constraint; in this case we only need to know which\n",
    "        # variables cannot form a subtour\n",
    "        cons.data = {}\n",
    "        cons.data['vars'] = variables\n",
    "        return cons\n",
    "    \n",
    "    # find subtours in the graph induced by the edges {i,j} for which x[i,j] is positive\n",
    "    # at the given solution; when solution is None, the LP solution is used\n",
    "    def find_subtours(self, cons, solution = None):\n",
    "        for k in dayType:\n",
    "            edges = []\n",
    "            x = cons.data['vars']\n",
    "            for i in farms:\n",
    "                for j in farms:\n",
    "                    if i < j:\n",
    "                        if self.model.getSolVal(solution, x[(i,j,k)]) > 0.5:\n",
    "                            edges.append((i, j))\n",
    "\n",
    "            G = networkx.Graph()\n",
    "            G.add_edges_from(edges)\n",
    "            components = list(networkx.connected_components(G))\n",
    "            print(k,\"XXXX\",len(components),components)\n",
    "            if len(components) != 1:\n",
    "                return components\n",
    "        return []\n",
    "\n",
    "\n",
    "    # checks whether solution is feasible\n",
    "    def conscheck(self, constraints, solution, check_integrality,\n",
    "                  check_lp_rows, print_reason, completely, **results):\n",
    "        \n",
    "        # check if there is a violated subtour elimination constraint\n",
    "        for cons in constraints:\n",
    "            if self.find_subtours(cons, solution):\n",
    "                return {\"result\": SCIP_RESULT.INFEASIBLE}\n",
    "        \n",
    "        # no violated constriant found -> feasible\n",
    "        return {\"result\": SCIP_RESULT.FEASIBLE}\n",
    "\n",
    "    \n",
    "    # enforces the LP solution: searches for subtours in the solution and adds \n",
    "    # adds constraints forbidding all the found subtours\n",
    "    def consenfolp(self, constraints, n_useful_conss, sol_infeasible):\n",
    "        consadded = False\n",
    "        for cons in constraints:\n",
    "            subtours = self.find_subtours(cons)\n",
    "            # if there are subtours\n",
    "            if subtours:\n",
    "                x = cons.data['vars']\n",
    "                for k in dayType:\n",
    "                    # add subtour elimination constraint for each subtour\n",
    "                    for S in subtours:\n",
    "                        self.model.addCons(quicksum(x[(i,j,k)] for i in S for j in S if j>i) <= len(S)-1)\n",
    "                        consadded = True\n",
    "\n",
    "        if consadded:\n",
    "            return {\"result\": SCIP_RESULT.CONSADDED}\n",
    "        return {\"result\": SCIP_RESULT.FEASIBLE}\n",
    "\n",
    "\n",
    "\n",
    "    # this is rather technical and not relevant for the exercise. to learn more see \n",
    "    # https://scipopt.org/doc/html/CONS.php#CONS_FUNDAMENTALCALLBACKS\n",
    "    def conslock(self, constraint, locktype, nlockspos, nlocksneg):\n",
    "        pass"
   ]
  },
  {
   "cell_type": "code",
   "execution_count": 81,
   "id": "024c8fc6",
   "metadata": {
    "code_folding": []
   },
   "outputs": [],
   "source": [
    "def addSubtourElimination(model, x):\n",
    "    # create the constraint handler\n",
    "    conshdlr = SEC()\n",
    "\n",
    "    # Add the constraint handler to SCIP. We set check priority < 0 so that only integer feasible solutions\n",
    "    # are passed to the conscheck callback\n",
    "    model.includeConshdlr(conshdlr, \"TSP\", \"TSP subtour eliminator\", chckpriority = -10, enfopriority = -10)\n",
    "\n",
    "    # create a subtour elimination constraint\n",
    "    cons = conshdlr.createCons(\"no_subtour_cons\", x)\n",
    "\n",
    "    # add constraint to SCIP\n",
    "    model.addPyCons(cons)"
   ]
  },
  {
   "cell_type": "code",
   "execution_count": 82,
   "id": "0b980f7b",
   "metadata": {},
   "outputs": [],
   "source": [
    "addSubtourElimination(m, x)\n"
   ]
  },
  {
   "cell_type": "markdown",
   "id": "0c00d0db",
   "metadata": {},
   "source": [
    "Objective"
   ]
  },
  {
   "cell_type": "code",
   "execution_count": 83,
   "id": "3003fed7",
   "metadata": {},
   "outputs": [],
   "source": [
    "# Objective function: minimize total distance travel\n",
    "m.setObjective(scip.quicksum(dist[i,j]*x[(i,j,k)] for i in farms for j in farms for k in dayType if i < j))"
   ]
  },
  {
   "cell_type": "code",
   "execution_count": 84,
   "id": "d92916a4",
   "metadata": {},
   "outputs": [
    {
     "name": "stdout",
     "output_type": "stream",
     "text": [
      "1 XXXX 0 []\n",
      "1 XXXX 1 [{0, 1, 2, 3, 4, 5, 6, 7, 8, 9, 10, 11, 12, 13, 14, 15, 16, 17, 18, 19, 20}]\n",
      "2 XXXX 1 [{0, 1, 2, 3, 4, 5, 6, 7, 8, 9, 11, 12, 13, 14, 15, 16, 17, 18, 19, 20}]\n",
      "1 XXXX 1 [{0, 1, 2, 3, 4, 5, 6, 7, 8, 9, 10, 11, 12, 13, 14, 15, 16, 17, 18, 19, 20}]\n",
      "2 XXXX 2 [{0, 1, 2, 3, 4, 5, 6, 7, 8, 9, 11, 13, 14, 16, 17, 19, 20}, {18, 12, 15}]\n",
      "1 XXXX 3 [{0, 17, 18, 2}, {1, 5, 6, 7, 8, 9, 10}, {19, 3, 20, 4}]\n",
      "1 XXXX 2 [{0, 1, 3, 4, 5, 6, 8, 9, 17, 18, 20}, {10, 2, 19, 7}]\n",
      "1 XXXX 1 [{0, 1, 2, 3, 4, 5, 6, 7, 8, 9, 10, 11, 12, 13, 14, 15, 16}]\n",
      "2 XXXX 3 [{0, 9, 19, 7}, {1, 4, 5, 6, 8, 17, 20}, {3, 2, 18}]\n",
      "1 XXXX 2 [{0, 2, 3, 11, 12, 18}, {1, 4, 5, 6, 7, 8, 9, 10, 17}]\n",
      "1 XXXX 3 [{0, 2, 3, 11, 12, 18}, {1, 4, 5, 7, 8, 17}, {9, 10, 6}]\n",
      "1 XXXX 3 [{0, 2, 4, 11, 12, 18}, {1, 3, 7, 8, 17}, {9, 10, 5, 6}]\n",
      "1 XXXX 1 [{0, 1, 2, 3, 4, 5, 6, 7, 8, 9, 10, 11, 12, 17, 18}]\n",
      "2 XXXX 1 [{0, 1, 2, 3, 4, 5, 6, 7, 8, 9, 13, 14, 15, 16, 19, 20}]\n",
      "1 XXXX 2 [{0, 16, 17, 8}, {1, 2, 3, 4, 5, 6, 7, 9, 10, 18}]\n",
      "1 XXXX 6 [{0, 1, 5, 9, 16}, {2, 18, 15}, {3, 12, 14}, {17, 4, 13}, {8, 10, 20, 6}, {11, 7}]\n",
      "1 XXXX 5 [{0, 1, 5, 9, 16}, {2, 18}, {3, 12}, {17, 4}, {6, 7, 8, 10, 11}]\n",
      "1 XXXX 2 [{0, 2, 3, 5, 6, 7, 8, 9, 10, 11, 14}, {1, 4, 17}]\n",
      "1 XXXX 1 [{0, 1, 2, 3, 4, 5, 6, 7, 8, 9, 10, 11, 14, 16, 17}]\n",
      "2 XXXX 2 [{0, 1, 2, 3, 4, 5, 6, 9, 12, 13, 15, 18}, {8, 20, 7}]\n",
      "1 XXXX 1 [{0, 1, 2, 3, 4, 5, 6, 7, 8, 9, 10, 11, 14, 16, 17}]\n",
      "2 XXXX 2 [{0, 1, 2, 3, 4, 5, 6, 9, 12, 13, 15, 18, 19}, {8, 20, 7}]\n",
      "1 XXXX 3 [{0, 5, 6, 7, 8, 9, 10, 20}, {1, 4, 17}, {3, 2, 18, 14}]\n",
      "1 XXXX 3 [{0, 5, 6, 7, 8, 9, 10, 20}, {1, 4, 17}, {3, 2, 18, 14}]\n",
      "1 XXXX 4 [{0, 9, 12}, {1, 4, 5, 6, 10, 17}, {3, 2, 18, 14}, {8, 20, 7}]\n",
      "1 XXXX 3 [{0, 9, 12}, {1, 2, 3, 4, 5, 6, 10, 14, 17, 18}, {8, 20, 7}]\n",
      "1 XXXX 3 [{0, 5, 6, 7, 8, 9, 10, 20}, {1, 4, 17}, {3, 2, 18, 14}]\n",
      "1 XXXX 2 [{0, 1, 4, 5, 6, 7, 8, 9, 10, 16, 20}, {2, 3, 14, 15, 18}]\n",
      "1 XXXX 1 [{0, 1, 2, 3, 4, 5, 6, 7, 8, 9, 10, 12, 14, 16, 20}]\n",
      "2 XXXX 2 [{0, 1, 2, 3, 4, 7, 8, 9, 11, 13, 15, 17, 18}, {19, 5, 6}]\n",
      "1 XXXX 1 [{0, 1, 2, 3, 4, 5, 6, 7, 8, 9, 10, 12, 15, 16, 18, 20}]\n",
      "2 XXXX 2 [{0, 1, 2, 3, 4, 7, 8, 9, 11, 13, 14, 17}, {19, 5, 6}]\n",
      "1 XXXX 1 [{0, 1, 2, 3, 4, 5, 6, 7, 8, 9, 10, 12, 14, 16, 20}]\n",
      "2 XXXX 2 [{0, 1, 2, 3, 4, 7, 8, 9, 11, 13, 15, 17, 18}, {19, 5, 6}]\n",
      "1 XXXX 1 [{0, 1, 2, 3, 4, 5, 6, 7, 8, 9, 10, 12, 14, 16, 20}]\n",
      "2 XXXX 2 [{0, 1, 2, 3, 4, 7, 8, 9, 11, 13, 15, 17, 18}, {19, 5, 6}]\n",
      "1 XXXX 1 [{0, 1, 2, 3, 4, 5, 6, 7, 8, 9, 10, 12, 14, 16, 20}]\n",
      "2 XXXX 2 [{0, 1, 2, 3, 4, 7, 8, 9, 11, 13, 15, 17, 18}, {19, 5, 6}]\n",
      "1 XXXX 1 [{0, 1, 2, 3, 4, 5, 6, 7, 8, 9, 10, 12, 15, 16, 18, 20}]\n",
      "2 XXXX 2 [{0, 1, 2, 3, 4, 7, 8, 9, 11, 13, 14, 17}, {19, 5, 6}]\n",
      "1 XXXX 1 [{0, 1, 2, 3, 4, 5, 6, 7, 8, 9, 10, 12, 15, 16, 18, 20}]\n",
      "2 XXXX 2 [{0, 1, 2, 3, 4, 7, 8, 9, 11, 13, 14, 17}, {19, 5, 6}]\n",
      "1 XXXX 1 [{0, 1, 2, 3, 4, 5, 6, 7, 8, 9, 10, 12, 14, 16, 20}]\n",
      "2 XXXX 2 [{0, 1, 2, 3, 4, 7, 8, 9, 11, 13, 15, 17, 18}, {19, 5, 6}]\n",
      "1 XXXX 1 [{0, 1, 2, 3, 4, 5, 6, 7, 8, 9, 10, 12, 14, 16, 20}]\n",
      "2 XXXX 2 [{0, 1, 2, 3, 4, 7, 8, 9, 11, 13, 15, 17, 18}, {19, 5, 6}]\n",
      "1 XXXX 1 [{0, 1, 2, 3, 4, 5, 6, 7, 8, 9, 10, 12, 13, 14, 16}]\n",
      "2 XXXX 2 [{0, 1, 2, 3, 4, 7, 8, 9, 11, 15, 17, 18, 20}, {19, 5, 6}]\n",
      "1 XXXX 2 [{0, 1, 5, 6, 7, 8, 9, 10, 16, 20}, {2, 3, 4, 12, 13, 14, 15}]\n",
      "1 XXXX 2 [{0, 1, 5, 6, 7, 8, 9, 10, 16, 20}, {2, 3, 4, 12, 13, 14, 15}]\n",
      "1 XXXX 2 [{0, 1, 5, 6, 7, 8, 9, 10, 16}, {2, 3, 4, 12, 13, 15, 18}]\n",
      "1 XXXX 2 [{0, 1, 5, 6, 7, 8, 9, 10, 16}, {2, 3, 4, 12, 13, 15, 18}]\n",
      "1 XXXX 2 [{0, 1, 5, 6, 7, 8, 9, 10, 16}, {2, 3, 4, 12, 13, 15, 18}]\n",
      "1 XXXX 2 [{0, 1, 5, 6, 7, 8, 9, 10, 16}, {2, 3, 4, 12, 13, 15, 18}]\n",
      "1 XXXX 2 [{0, 1, 5, 6, 7, 8, 9, 10, 16}, {2, 3, 4, 12, 13, 15, 18}]\n",
      "1 XXXX 2 [{0, 1, 5, 6, 7, 8, 9, 10, 16}, {2, 3, 4, 12, 13, 15, 18}]\n",
      "1 XXXX 2 [{0, 1, 5, 6, 7, 8, 9, 10, 16}, {2, 3, 4, 12, 13, 15, 18}]\n",
      "1 XXXX 2 [{0, 1, 5, 6, 7, 8, 9, 10, 16}, {2, 3, 4, 12, 13, 15, 18}]\n",
      "1 XXXX 2 [{0, 1, 5, 6, 7, 8, 9, 10, 16}, {2, 3, 4, 12, 13, 15, 18}]\n",
      "1 XXXX 2 [{0, 1, 5, 6, 7, 8, 9, 10, 16}, {2, 3, 4, 12, 13, 15, 18}]\n",
      "1 XXXX 2 [{0, 1, 5, 6, 7, 8, 9, 10, 16}, {2, 3, 4, 12, 13, 15, 18}]\n",
      "1 XXXX 2 [{0, 1, 5, 6, 7, 8, 9, 10, 16}, {2, 3, 4, 13, 14, 15}]\n",
      "1 XXXX 1 [{0, 1, 2, 3, 4, 5, 6, 7, 8, 9, 10, 12, 14, 16, 20}]\n",
      "2 XXXX 2 [{0, 1, 2, 3, 4, 7, 8, 9, 11, 13, 15, 17, 18}, {19, 5, 6}]\n",
      "1 XXXX 2 [{0, 1, 5, 6, 7, 8, 9, 10, 16}, {2, 3, 4, 12, 13, 14}]\n",
      "1 XXXX 3 [{0, 1, 5, 6, 7, 8, 9, 10, 16}, {2, 4, 13}, {3, 12, 15}]\n",
      "1 XXXX 3 [{0, 1, 5, 6, 7, 8, 9, 10, 16}, {2, 4, 13}, {3, 12, 15}]\n",
      "1 XXXX 3 [{0, 5, 6, 7, 8, 9, 10, 19, 20}, {1, 4, 13}, {2, 3, 12, 14, 15}]\n",
      "1 XXXX 2 [{0, 1, 2, 3, 4, 5, 7, 12, 13, 14, 15, 16}, {8, 9, 10, 6}]\n",
      "1 XXXX 3 [{0, 5, 6, 7, 8, 9, 10, 19, 20}, {1, 4, 13}, {2, 3, 12, 14, 15}]\n",
      "1 XXXX 3 [{0, 5, 6, 7, 8, 9, 10, 19, 20}, {1, 4, 13}, {2, 3, 12, 14, 15}]\n",
      "1 XXXX 3 [{0, 5, 6, 7, 8, 9, 10, 19, 20}, {1, 4, 13}, {2, 3, 12, 14, 15}]\n",
      "1 XXXX 2 [{0, 1, 2, 3, 4, 5, 7, 11, 14, 16}, {8, 9, 10, 6}]\n",
      "1 XXXX 3 [{0, 5, 6, 7, 8, 9, 10, 19, 20}, {1, 4, 13}, {2, 3, 12, 14, 15}]\n",
      "1 XXXX 2 [{0, 5, 6, 7, 8, 9, 10, 19}, {1, 2, 3, 4, 12, 13, 14, 15}]\n",
      "1 XXXX 2 [{0, 5, 6, 7, 8, 9, 10, 19}, {1, 2, 3, 4, 12, 13, 14, 15}]\n",
      "1 XXXX 2 [{0, 1, 2, 3, 4, 5, 7, 11, 13, 14, 16, 19}, {8, 9, 10, 6}]\n",
      "1 XXXX 2 [{0, 1, 2, 3, 4, 5, 7, 11, 13, 14, 16, 19}, {8, 9, 10, 6}]\n",
      "1 XXXX 2 [{0, 5, 6, 7, 8, 9, 10, 16, 19, 20}, {1, 2, 3, 4, 12, 13, 14}]\n",
      "1 XXXX 2 [{0, 5, 6, 7, 8, 9, 10, 16, 19, 20}, {1, 2, 3, 4, 12, 13, 14}]\n",
      "1 XXXX 2 [{0, 5, 6, 7, 8, 9, 10, 16, 19, 20}, {1, 2, 3, 4, 12, 13, 14}]\n",
      "1 XXXX 2 [{0, 1, 2, 3, 4, 5, 7, 12, 13, 14, 16, 19}, {6, 8, 9, 10, 20}]\n",
      "1 XXXX 2 [{0, 1, 2, 3, 4, 5, 7, 12, 13, 14, 16, 19}, {6, 8, 9, 10, 20}]\n",
      "1 XXXX 2 [{0, 1, 2, 3, 4, 5, 7, 12, 13, 14, 16, 19}, {6, 8, 9, 10, 20}]\n",
      "1 XXXX 2 [{0, 1, 2, 3, 4, 5, 7, 11, 13, 16, 19}, {6, 8, 9, 10, 20}]\n",
      "1 XXXX 2 [{0, 1, 2, 3, 4, 5, 7, 12, 13, 14, 16, 19}, {6, 8, 9, 10, 20}]\n",
      "1 XXXX 2 [{0, 1, 2, 3, 4, 5, 7, 11, 13, 16, 19}, {6, 8, 9, 10, 20}]\n",
      "1 XXXX 2 [{0, 1, 2, 3, 4, 5, 7, 12, 13, 14, 16, 19}, {6, 8, 9, 10, 20}]\n",
      "1 XXXX 2 [{0, 1, 2, 3, 4, 5, 7, 12, 13, 14, 16, 19}, {6, 8, 9, 10, 20}]\n",
      "1 XXXX 2 [{0, 1, 2, 3, 4, 5, 7, 11, 13, 16, 19}, {6, 8, 9, 10, 20}]\n",
      "1 XXXX 1 [{0, 1, 2, 3, 4, 5, 6, 7, 8, 9, 10, 11, 13, 16, 19, 20}]\n",
      "2 XXXX 1 [{0, 1, 2, 3, 4, 5, 6, 7, 8, 9, 12, 14, 15, 17, 18}]\n",
      "1 XXXX 1 [{0, 1, 2, 3, 4, 5, 6, 7, 8, 9, 10, 12, 13, 14, 16, 19, 20}]\n",
      "2 XXXX 1 [{0, 1, 2, 3, 4, 5, 6, 7, 8, 9, 11, 15, 17, 18}]\n",
      "1 XXXX 1 [{0, 1, 2, 3, 4, 5, 6, 7, 8, 9, 10, 12, 15, 16, 18}]\n",
      "2 XXXX 2 [{0, 1, 2, 3, 4, 7, 8, 9, 11, 13, 14, 17, 20}, {19, 5, 6}]\n",
      "1 XXXX 1 [{0, 1, 2, 3, 4, 5, 6, 7, 8, 9, 10, 11, 14, 16}]\n",
      "2 XXXX 4 [{0, 5, 6, 9, 19}, {1, 4, 13, 17}, {2, 3, 12, 15, 18}, {8, 20, 7}]\n",
      "1 XXXX 1 [{0, 1, 2, 3, 4, 5, 6, 7, 8, 9, 10, 11, 14, 16}]\n",
      "2 XXXX 4 [{0, 5, 6, 9, 19}, {1, 4, 13, 17}, {2, 3, 12, 15, 18}, {8, 20, 7}]\n",
      "1 XXXX 1 [{0, 1, 2, 3, 4, 5, 6, 7, 8, 9, 10, 11, 14, 16}]\n",
      "2 XXXX 4 [{0, 5, 6, 9, 19}, {1, 4, 13, 17}, {2, 3, 12, 15, 18}, {8, 20, 7}]\n",
      "1 XXXX 1 [{0, 1, 2, 3, 4, 5, 6, 7, 8, 9, 10, 11, 13, 14, 15, 16}]\n",
      "2 XXXX 3 [{0, 5, 6, 9, 19}, {1, 2, 3, 4, 12, 17, 18}, {8, 20, 7}]\n",
      "1 XXXX 1 [{0, 1, 2, 3, 4, 5, 6, 7, 8, 9, 10, 11, 13, 14, 15, 16}]\n",
      "2 XXXX 3 [{0, 5, 6, 9, 19}, {1, 2, 3, 4, 12, 17, 18}, {8, 20, 7}]\n",
      "1 XXXX 1 [{0, 1, 2, 3, 4, 5, 6, 7, 8, 9, 10, 11, 15, 16, 18}]\n",
      "2 XXXX 4 [{0, 5, 6, 9, 19}, {1, 4, 13, 17}, {2, 3, 12, 14}, {8, 20, 7}]\n",
      "1 XXXX 1 [{0, 1, 2, 3, 4, 5, 6, 7, 8, 9, 10, 11, 15, 16, 18}]\n",
      "2 XXXX 4 [{0, 5, 6, 9, 19}, {1, 4, 13, 17}, {2, 3, 12, 14}, {8, 20, 7}]\n",
      "1 XXXX 2 [{0, 1, 2, 3, 4, 7, 11, 14, 15, 18}, {5, 6, 8, 9, 10}]\n",
      "1 XXXX 2 [{0, 1, 2, 3, 4, 7, 11, 14, 15, 18}, {5, 6, 8, 9, 10}]\n",
      "1 XXXX 2 [{0, 1, 2, 3, 4, 7, 11, 14, 15, 18}, {5, 6, 8, 9, 10, 19}]\n",
      "1 XXXX 1 [{0, 1, 2, 3, 4, 5, 6, 7, 8, 9, 10, 11, 14, 15, 18, 19}]\n",
      "2 XXXX 3 [{0, 5, 6, 7, 8, 9, 20}, {1, 4, 13, 16, 17}, {2, 3, 12}]\n",
      "1 XXXX 1 [{0, 1, 2, 3, 4, 5, 6, 7, 8, 9, 10, 14, 15, 16, 18, 19}]\n",
      "2 XXXX 1 [{0, 1, 2, 3, 4, 5, 6, 7, 8, 9, 11, 12, 13, 17, 20}]\n",
      "1 XXXX 1 [{0, 1, 2, 3, 4, 5, 6, 7, 8, 9, 10, 11, 14, 15, 16, 18}]\n",
      "2 XXXX 2 [{0, 5, 6, 7, 8, 9, 19, 20}, {1, 2, 3, 4, 12, 13, 17}]\n",
      "1 XXXX 1 [{0, 1, 2, 3, 4, 5, 6, 7, 8, 9, 10, 12, 14, 16, 17}]\n",
      "2 XXXX 2 [{0, 1, 2, 3, 4, 7, 8, 9, 11, 13, 15, 18, 20}, {19, 5, 6}]\n",
      "1 XXXX 2 [{0, 1, 2, 3, 4, 5, 6, 7, 9, 12, 14, 16, 17, 19}, {8, 10, 20}]\n",
      "1 XXXX 2 [{0, 1, 2, 3, 4, 5, 6, 7, 9, 12, 14, 16, 17, 19}, {8, 10, 20}]\n",
      "1 XXXX 2 [{0, 1, 2, 3, 4, 5, 6, 7, 9, 12, 14, 16, 17, 19}, {8, 10, 20}]\n",
      "1 XXXX 1 [{0, 1, 2, 3, 4, 5, 6, 7, 8, 9, 10, 12, 15, 16, 17, 18}]\n",
      "2 XXXX 2 [{0, 1, 2, 3, 4, 7, 8, 9, 11, 13, 14, 20}, {19, 5, 6}]\n",
      "1 XXXX 1 [{0, 1, 2, 3, 4, 5, 6, 7, 8, 9, 10, 11, 14, 16, 17}]\n",
      "2 XXXX 2 [{0, 1, 2, 3, 4, 7, 8, 9, 12, 13, 15, 18, 20}, {19, 5, 6}]\n",
      "1 XXXX 1 [{0, 1, 2, 3, 4, 5, 6, 7, 8, 9, 10, 12, 14, 16, 17}]\n",
      "2 XXXX 2 [{0, 1, 2, 3, 4, 7, 8, 9, 11, 13, 15, 18, 20}, {19, 5, 6}]\n",
      "1 XXXX 1 [{0, 1, 2, 3, 4, 5, 6, 7, 8, 9, 10, 12, 14, 16, 17}]\n",
      "2 XXXX 2 [{0, 1, 2, 3, 4, 7, 8, 9, 11, 13, 15, 18, 20}, {19, 5, 6}]\n",
      "1 XXXX 1 [{0, 1, 2, 3, 4, 5, 6, 7, 8, 9, 10, 11, 14, 16, 17}]\n",
      "2 XXXX 2 [{0, 1, 2, 3, 4, 7, 8, 9, 12, 13, 15, 18, 20}, {19, 5, 6}]\n",
      "1 XXXX 1 [{0, 1, 2, 3, 4, 5, 6, 7, 8, 9, 10, 11, 14, 16, 17, 19}]\n",
      "2 XXXX 1 [{0, 1, 2, 3, 4, 5, 6, 7, 8, 9, 12, 13, 15, 18, 20}]\n",
      "1 XXXX 1 [{0, 1, 2, 3, 4, 5, 6, 7, 8, 9, 10, 11, 14, 17, 19}]\n",
      "2 XXXX 2 [{0, 1, 5, 6, 7, 8, 9, 16, 20}, {2, 3, 4, 12, 13, 15, 18}]\n",
      "1 XXXX 1 [{0, 1, 2, 3, 4, 5, 6, 7, 8, 9, 10, 11, 14, 17, 19}]\n",
      "2 XXXX 2 [{0, 1, 5, 6, 7, 8, 9, 16, 20}, {2, 3, 4, 12, 13, 15, 18}]\n",
      "1 XXXX 1 [{0, 1, 2, 3, 4, 5, 6, 7, 8, 9, 10, 11, 14, 16, 17, 19}]\n",
      "2 XXXX 1 [{0, 1, 2, 3, 4, 5, 6, 7, 8, 9, 12, 13, 15, 18, 20}]\n",
      "1 XXXX 1 [{0, 1, 2, 3, 4, 5, 6, 7, 8, 9, 10, 11, 14, 16, 17, 19}]\n",
      "2 XXXX 1 [{0, 1, 2, 3, 4, 5, 6, 7, 8, 9, 12, 13, 15, 18, 20}]\n"
     ]
    }
   ],
   "source": [
    "m.optimize()"
   ]
  },
  {
   "cell_type": "code",
   "execution_count": 85,
   "id": "1a13304e",
   "metadata": {},
   "outputs": [
    {
     "data": {
      "text/plain": [
       "'optimal'"
      ]
     },
     "execution_count": 85,
     "metadata": {},
     "output_type": "execute_result"
    }
   ],
   "source": [
    "m.getStatus()"
   ]
  },
  {
   "cell_type": "code",
   "execution_count": 86,
   "id": "8dbbe03e",
   "metadata": {},
   "outputs": [
    {
     "name": "stdout",
     "output_type": "stream",
     "text": [
      "The optimal distance traveled is: 1230 miles.\n"
     ]
    }
   ],
   "source": [
    "print(f\"The optimal distance traveled is: {10*round(m.getObjVal())} miles.\")\n"
   ]
  },
  {
   "cell_type": "code",
   "execution_count": 87,
   "id": "322375cb",
   "metadata": {},
   "outputs": [
    {
     "name": "stdout",
     "output_type": "stream",
     "text": [
      "[{0, 1, 2, 3, 4, 5, 6, 7, 8, 9, 10, 11, 14, 16, 17, 19}]\n"
     ]
    },
    {
     "data": {
      "image/png": "[encoded data removed]",
      "text/plain": [
       "<Figure size 1000x600 with 1 Axes>"
      ]
     },
     "metadata": {},
     "output_type": "display_data"
    },
    {
     "name": "stdout",
     "output_type": "stream",
     "text": [
      "[{0, 1, 2, 3, 4, 5, 6, 7, 8, 9, 12, 13, 15, 18, 20}]\n"
     ]
    },
    {
     "data": {
      "image/png": "[encoded data removed]",
      "text/plain": [
       "<Figure size 1000x600 with 1 Axes>"
      ]
     },
     "metadata": {},
     "output_type": "display_data"
    }
   ],
   "source": [
    "sol = m.getBestSol()\n",
    "for k in dayType:\n",
    "    # Collect the edges: if the value of x[i,j] is 1, then the edge (i,j) is in the solution\n",
    "    edges = []\n",
    "    for i in farms:\n",
    "        for j in farms:\n",
    "            if j > i:\n",
    "                if m.getSolVal(sol, x[(i,j,k)]) > 0.5: # variable is binary so > 0.5 --> is 1\n",
    "                    edges.append( (i,j) )\n",
    "    # make figure look nicer\n",
    "    plt.figure(figsize=(10,6), dpi=100)\n",
    "\n",
    "    # create empty graph\n",
    "    optgraph = networkx.Graph()\n",
    "\n",
    "    # add edges\n",
    "    optgraph.add_edges_from(edges)\n",
    "    components = list(networkx.connected_components(optgraph))\n",
    "\n",
    "    print(components)\n",
    "    # draw the nodes, with labels in the position xy (see when we read the instance)\n",
    "    networkx.draw(optgraph, node_size=300, pos=xy, with_labels=True, node_color='lightblue')\n",
    "\n",
    "    # show drawing\n",
    "    plt.show()"
   ]
  },
  {
   "cell_type": "code",
   "execution_count": 1,
   "id": "5640829e",
   "metadata": {},
   "outputs": [
    {
     "ename": "NameError",
     "evalue": "name 'xy' is not defined",
     "output_type": "error",
     "traceback": [
      "\u001b[1;31m---------------------------------------------------------------------------\u001b[0m",
      "\u001b[1;31mNameError\u001b[0m                                 Traceback (most recent call last)",
      "\u001b[1;32m<ipython-input-1-f3603995b6f3>\u001b[0m in \u001b[0;36m<module>\u001b[1;34m\u001b[0m\n\u001b[1;32m----> 1\u001b[1;33m \u001b[0mxy\u001b[0m\u001b[1;33m\u001b[0m\u001b[1;33m\u001b[0m\u001b[0m\n\u001b[0m",
      "\u001b[1;31mNameError\u001b[0m: name 'xy' is not defined"
     ]
    }
   ],
   "source": [
    "xy"
   ]
  },
  {
   "cell_type": "code",
   "execution_count": null,
   "id": "cf2eb8dc",
   "metadata": {},
   "outputs": [],
   "source": []
  },
  {
   "cell_type": "code",
   "execution_count": null,
   "id": "6c603055",
   "metadata": {},
   "outputs": [],
   "source": []
  },
  {
   "cell_type": "code",
   "execution_count": null,
   "id": "4e0dc370",
   "metadata": {},
   "outputs": [],
   "source": []
  },
  {
   "cell_type": "code",
   "execution_count": null,
   "id": "4f124f48",
   "metadata": {},
   "outputs": [],
   "source": []
  },
  {
   "cell_type": "code",
   "execution_count": null,
   "id": "ca4446f6",
   "metadata": {},
   "outputs": [],
   "source": []
  },
  {
   "cell_type": "code",
   "execution_count": null,
   "id": "b8f472f1",
   "metadata": {},
   "outputs": [],
   "source": []
  },
  {
   "cell_type": "code",
   "execution_count": null,
   "id": "7b217787",
   "metadata": {},
   "outputs": [],
   "source": []
  },
  {
   "cell_type": "code",
   "execution_count": null,
   "id": "7ecb0936",
   "metadata": {},
   "outputs": [],
   "source": []
  },
  {
   "cell_type": "code",
   "execution_count": null,
   "id": "4a1bc7b4",
   "metadata": {},
   "outputs": [],
   "source": []
  },
  {
   "cell_type": "code",
   "execution_count": null,
   "id": "0d7d9ddb",
   "metadata": {},
   "outputs": [],
   "source": []
  },
  {
   "cell_type": "code",
   "execution_count": null,
   "id": "0d51e328",
   "metadata": {},
   "outputs": [],
   "source": []
  },
  {
   "cell_type": "code",
   "execution_count": null,
   "id": "3bc71c71",
   "metadata": {},
   "outputs": [],
   "source": []
  },
  {
   "cell_type": "code",
   "execution_count": null,
   "id": "ea8a443d",
   "metadata": {},
   "outputs": [],
   "source": []
  },
  {
   "cell_type": "code",
   "execution_count": null,
   "id": "4c7031ca",
   "metadata": {},
   "outputs": [],
   "source": []
  },
  {
   "cell_type": "code",
   "execution_count": null,
   "id": "fbaf3300",
   "metadata": {},
   "outputs": [],
   "source": []
  },
  {
   "cell_type": "code",
   "execution_count": null,
   "id": "f18685a6",
   "metadata": {},
   "outputs": [],
   "source": []
  },
  {
   "cell_type": "code",
   "execution_count": null,
   "id": "27756e32",
   "metadata": {},
   "outputs": [],
   "source": []
  },
  {
   "cell_type": "code",
   "execution_count": null,
   "id": "a7edf88a",
   "metadata": {},
   "outputs": [],
   "source": []
  },
  {
   "cell_type": "code",
   "execution_count": null,
   "id": "91f8b07f",
   "metadata": {},
   "outputs": [],
   "source": []
  },
  {
   "cell_type": "code",
   "execution_count": null,
   "id": "ef263a04",
   "metadata": {},
   "outputs": [],
   "source": []
  },
  {
   "cell_type": "code",
   "execution_count": null,
   "id": "23f9072b",
   "metadata": {},
   "outputs": [],
   "source": []
  },
  {
   "cell_type": "code",
   "execution_count": null,
   "id": "a6c53fba",
   "metadata": {},
   "outputs": [],
   "source": [
    "\n"
   ]
  }
 ],
 "metadata": {
  "kernelspec": {
   "display_name": "Python 3",
   "language": "python",
   "name": "python3"
  },
  "language_info": {
   "codemirror_mode": {
    "name": "ipython",
    "version": 3
   },
   "file_extension": ".py",
   "mimetype": "text/x-python",
   "name": "python",
   "nbconvert_exporter": "python",
   "pygments_lexer": "ipython3",
   "version": "3.7.10"
  },
  "toc": {
   "base_numbering": 1,
   "nav_menu": {},
   "number_sections": true,
   "sideBar": true,
   "skip_h1_title": false,
   "title_cell": "Table of Contents",
   "title_sidebar": "Contents",
   "toc_cell": false,
   "toc_position": {},
   "toc_section_display": true,
   "toc_window_display": false
  }
 },
 "nbformat": 4,
 "nbformat_minor": 5
}
