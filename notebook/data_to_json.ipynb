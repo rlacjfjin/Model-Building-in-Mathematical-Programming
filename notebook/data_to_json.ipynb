{
 "cells": [
  {
   "cell_type": "markdown",
   "metadata": {},
   "source": [
    "### Manpower Planning data\n",
    "\n",
    "#### 预计未来所需要的人数\n",
    "| <i></i> | Unskilled | Semi-skilled | Skilled |\n",
    "| --- | --- | --- | --- |\n",
    "| Current Strength | 2000 | 1500 | 1000 |\n",
    "| Year 1 | 1000 | 1400 | 1000 |\n",
    "| Year 2 | 500 | 2000 | 1500 |\n",
    "| Year 3 | 0 | 2500 | 2000 |\n",
    "\n",
    "#### 新员工的离职率\n",
    "| <i></i> | Unskilled (%)| Semi-skilled (%) | Skilled (%) |\n",
    "| --- | --- | --- | --- |\n",
    "| $< 1$ year of service | 25 | 20 | 10 |\n",
    "| $\\geq 1$ year of service | 10 | 5 | 5 |\n",
    "\n",
    "#### 可招聘的最大人数限制\n",
    "| <i></i> | Unskilled | Semi-skilled | Skilled |\n",
    "| --- | --- | --- | --- |\n",
    "| Year 1 | 500 | 800 | 500 |\n",
    "| Year 2 | 500 | 800 | 500 |\n",
    "| Year 3 | 500 | 800 | 500 |\n",
    "\n",
    "#### 每年可转岗限制(人数(一人成本))\n",
    "| <i></i> | Unskilled | Semi-skilled | Skilled |\n",
    "| --- | --- | --- | --- |\n",
    "| Unskilled | 0 | 200(400/人) | - |\n",
    "| Semi-skilled | 0 | 0 | <=0.25*Skilled(500/人) |\n",
    "| Skilled | 0 | 0 | 0 |\n",
    "\n",
    "    50%的降级员工有可能会离开公司；\n",
    "\n",
    "#### 开除员工成本(成本/人)\n",
    "| <i></i> | Unskilled | Semi-skilled | Skilled |\n",
    "| --- | --- | --- | --- |\n",
    "|开除成本| 200 | 500 | 500 |\n",
    "\n",
    "#### 超员额外支出成本(成本/人)\n",
    "| <i></i> | Unskilled | Semi-skilled | Skilled |\n",
    "| --- | --- | --- | --- |\n",
    "|超员成本| 1500 | 2000 | 3000 |\n",
    "\n",
    "    总超员人数<=150人\n",
    "\n",
    "#### 短期员工的限制(成本/人/年)\n",
    "| <i></i> | Unskilled | Semi-skilled | Skilled |\n",
    "| --- | --- | --- | --- |\n",
    "|带人成本| 500 | 400 | 400 |\n",
    "\n",
    "    每个级别可带人的数<=50;\n",
    "    短期员工的生产力是正式员工的一半;\n",
    "\n",
    "\n",
    "\n",
    "\n",
    "\n"
   ]
  },
  {
   "cell_type": "code",
   "execution_count": 1,
   "metadata": {
    "ExecuteTime": {
     "end_time": "2021-07-02T14:19:02.319333Z",
     "start_time": "2021-07-02T14:19:02.314017Z"
    }
   },
   "outputs": [],
   "source": [
    "data = dict()"
   ]
  },
  {
   "cell_type": "code",
   "execution_count": 1,
   "metadata": {
    "ExecuteTime": {
     "end_time": "2021-07-03T03:26:25.834039Z",
     "start_time": "2021-07-03T03:26:25.819823Z"
    }
   },
   "outputs": [],
   "source": [
    "years = [1, 2, 3]\n",
    "skills = ['s1', 's2', 's3']\n",
    "curr_workforce = {'s1': 2000, 's2': 1500, 's3': 1000}\n",
    "demand = {\n",
    "    (1, 's1'): 1000,\n",
    "    (1, 's2'): 1400,\n",
    "    (1, 's3'): 1000,\n",
    "    (2, 's1'): 500,\n",
    "    (2, 's2'): 2000,\n",
    "    (2, 's3'): 1500,\n",
    "    (3, 's1'): 0,\n",
    "    (3, 's2'): 2500,\n",
    "    (3, 's3'): 2000\n",
    "}\n",
    "\n",
    "max_hiring = {\n",
    "    (1, 's1'): 500,\n",
    "    (1, 's2'): 800,\n",
    "    (1, 's3'): 500,\n",
    "    (2, 's1'): 500,\n",
    "    (2, 's2'): 800,\n",
    "    (2, 's3'): 500,\n",
    "    (3, 's1'): 500,\n",
    "    (3, 's2'): 800,\n",
    "    (3, 's3'): 500\n",
    "}\n",
    "max_overmanning = 150\n",
    "max_parttime = 50\n",
    "parttime_cap = 0.50\n",
    "max_train_unskilled = 200\n",
    "max_train_semiskilled = 0.25\n",
    "\n",
    "rookie_attrition = {'s1': 0.25, 's2': 0.20, 's3': 0.10}\n",
    "veteran_attrition = {'s1': 0.10, 's2': 0.05, 's3': 0.05}\n",
    "demoted_attrition = 0.50\n",
    "\n",
    "training_cost = {'s1': 400, 's2': 500}\n",
    "layoff_cost = {'s1': 200, 's2': 500, 's3': 500}\n",
    "parttime_cost = {'s1': 500, 's2': 400, 's3': 400}\n",
    "overmanning_cost = {'s1': 1500, 's2': 2000, 's3': 3000}\n",
    "\n"
   ]
  },
  {
   "cell_type": "code",
   "execution_count": 2,
   "metadata": {
    "ExecuteTime": {
     "end_time": "2021-07-03T03:26:27.441649Z",
     "start_time": "2021-07-03T03:26:27.403767Z"
    }
   },
   "outputs": [],
   "source": [
    "import pyscipopt as scip"
   ]
  },
  {
   "cell_type": "code",
   "execution_count": 13,
   "metadata": {
    "ExecuteTime": {
     "end_time": "2021-07-03T03:31:35.955388Z",
     "start_time": "2021-07-03T03:31:35.944783Z"
    }
   },
   "outputs": [],
   "source": [
    "model = scip.Model()"
   ]
  },
  {
   "cell_type": "code",
   "execution_count": 14,
   "metadata": {
    "ExecuteTime": {
     "end_time": "2021-07-03T03:31:36.474442Z",
     "start_time": "2021-07-03T03:31:36.464573Z"
    }
   },
   "outputs": [],
   "source": [
    "### 定义变量\n",
    "employed = dict()\n",
    "recruited = dict()\n",
    "retrained = dict()\n",
    "redundant = dict()\n",
    "shorttime = dict()\n",
    "overmanning = dict()\n",
    "\n",
    "for year in years:\n",
    "    for skill in skills:\n",
    "        employed[year,skill] = model.addVar(name=f\"employed_{year}_{skill}\",vtype=\"C\")\n",
    "        recruited[year,skill] = model.addVar(name=f\"recruited_{year}_{skill}\",vtype=\"C\",ub=max_hiring[year,skill])\n",
    "        redundant[year,skill] = model.addVar(name=f\"redundant_{year}_{skill}\",vtype=\"C\")\n",
    "        shorttime[year,skill] = model.addVar(name=f\"shorttime_{year}_{skill}\",vtype=\"C\",ub=max_parttime)\n",
    "        overmanning[year,skill] = model.addVar(name=f\"overmanning_{year}_{skill}\",vtype=\"C\")\n",
    "        for other_skill in skills:\n",
    "            retrained[year,skill,other_skill] = model.addVar(name=f\"retrained_{year}_{skill}_{other_skill}\",vtype=\"I\")\n",
    "\n"
   ]
  },
  {
   "cell_type": "code",
   "execution_count": 15,
   "metadata": {
    "ExecuteTime": {
     "end_time": "2021-07-03T03:31:37.284130Z",
     "start_time": "2021-07-03T03:31:37.271363Z"
    }
   },
   "outputs": [],
   "source": [
    "### 定义约束条件\n",
    "Balance = dict()\n",
    "for year in years:\n",
    "    for skill in skills:\n",
    "        if year == 1:\n",
    "            pre_employed = curr_workforce[skill]\n",
    "        else:\n",
    "            pre_employed = employed[year-1,skill]\n",
    "        pre_employed = (1-veteran_attrition[skill])*pre_employed\n",
    "        cur_recruited = (1-rookie_attrition[skill])*recruited[year, skill]\n",
    "        cur_retrained = scip.quicksum((1- veteran_attrition[skill])*retrained[year,skill1,skill] - retrained[year,skill,skill1]\n",
    "                                     for skill1 in skills if skill1 < skill)\n",
    "        cur_retrained += scip.quicksum((1- demoted_attrition)*retrained[year,skill1,skill] - retrained[year,skill,skill1]\n",
    "                                     for skill1 in skills if skill1 > skill)\n",
    "        cur_redundant = redundant[year,skill]      \n",
    "        Balance[year,skill] = model.addCons(employed[year,skill] == pre_employed + cur_recruited + cur_retrained - cur_redundant)\n",
    "\n",
    "\n",
    "\n",
    "for year in years:        \n",
    "    model.addCons(retrained[year,\"s1\",\"s2\"] <= max_train_unskilled)\n",
    "    model.addCons(retrained[year,\"s1\",\"s3\"] == 0)\n",
    "    model.addCons(retrained[year,\"s2\",\"s3\"] <= max_train_semiskilled * employed[year,\"s3\"])\n",
    "\n",
    "for year in years:\n",
    "    model.addCons(sum(overmanning[year,skill] for skill in skills) <= max_overmanning)\n",
    "\n",
    "\n",
    "for year in years:\n",
    "    for skill in skills:\n",
    "        model.addCons(employed[year,skill] == demand[year,skill]\n",
    "                      + overmanning[year,skill] + parttime_cap*shorttime[year,skill])\n",
    "\n",
    "    \n",
    "        \n",
    "        "
   ]
  },
  {
   "cell_type": "code",
   "execution_count": 16,
   "metadata": {
    "ExecuteTime": {
     "end_time": "2021-07-03T03:31:38.458762Z",
     "start_time": "2021-07-03T03:31:38.452177Z"
    }
   },
   "outputs": [],
   "source": [
    "obj = scip.quicksum(redundant[year,skill] for year in years for skill in skills)\n",
    "model.setObjective(obj, \"minimize\")\n"
   ]
  },
  {
   "cell_type": "code",
   "execution_count": 17,
   "metadata": {
    "ExecuteTime": {
     "end_time": "2021-07-03T03:31:41.585800Z",
     "start_time": "2021-07-03T03:31:41.516904Z"
    }
   },
   "outputs": [],
   "source": [
    "\n",
    "model.optimize()"
   ]
  },
  {
   "cell_type": "code",
   "execution_count": 18,
   "metadata": {
    "ExecuteTime": {
     "end_time": "2021-07-03T03:31:42.856318Z",
     "start_time": "2021-07-03T03:31:42.845506Z"
    }
   },
   "outputs": [
    {
     "data": {
      "text/plain": [
       "'optimal'"
      ]
     },
     "execution_count": 18,
     "metadata": {},
     "output_type": "execute_result"
    }
   ],
   "source": [
    "model.getStatus()"
   ]
  },
  {
   "cell_type": "code",
   "execution_count": 19,
   "metadata": {
    "ExecuteTime": {
     "end_time": "2021-07-03T03:31:43.440717Z",
     "start_time": "2021-07-03T03:31:43.432972Z"
    }
   },
   "outputs": [
    {
     "data": {
      "text/plain": [
       "841.8199999999997"
      ]
     },
     "execution_count": 19,
     "metadata": {},
     "output_type": "execute_result"
    }
   ],
   "source": [
    "model.getObjVal()"
   ]
  },
  {
   "cell_type": "code",
   "execution_count": 20,
   "metadata": {
    "ExecuteTime": {
     "end_time": "2021-07-03T03:32:10.393968Z",
     "start_time": "2021-07-03T03:32:10.383269Z"
    }
   },
   "outputs": [
    {
     "data": {
      "text/plain": [
       "72"
      ]
     },
     "execution_count": 20,
     "metadata": {},
     "output_type": "execute_result"
    }
   ],
   "source": [
    "len(model.getVars())"
   ]
  },
  {
   "cell_type": "code",
   "execution_count": 26,
   "metadata": {
    "ExecuteTime": {
     "end_time": "2021-07-03T03:37:47.521723Z",
     "start_time": "2021-07-03T03:37:47.041260Z"
    }
   },
   "outputs": [],
   "source": [
    "#### 分析结果\n",
    "import pandas as pd"
   ]
  },
  {
   "cell_type": "code",
   "execution_count": 27,
   "metadata": {
    "ExecuteTime": {
     "end_time": "2021-07-03T03:37:47.594538Z",
     "start_time": "2021-07-03T03:37:47.570026Z"
    }
   },
   "outputs": [
    {
     "data": {
      "text/html": [
       "<div>\n",
       "<style scoped>\n",
       "    .dataframe tbody tr th:only-of-type {\n",
       "        vertical-align: middle;\n",
       "    }\n",
       "\n",
       "    .dataframe tbody tr th {\n",
       "        vertical-align: top;\n",
       "    }\n",
       "\n",
       "    .dataframe thead th {\n",
       "        text-align: right;\n",
       "    }\n",
       "</style>\n",
       "<table border=\"1\" class=\"dataframe\">\n",
       "  <thead>\n",
       "    <tr style=\"text-align: right;\">\n",
       "      <th></th>\n",
       "      <th>s1</th>\n",
       "      <th>s2</th>\n",
       "      <th>s3</th>\n",
       "    </tr>\n",
       "  </thead>\n",
       "  <tbody>\n",
       "    <tr>\n",
       "      <th>1</th>\n",
       "      <td>0.0</td>\n",
       "      <td>0.0</td>\n",
       "      <td>0.0</td>\n",
       "    </tr>\n",
       "    <tr>\n",
       "      <th>2</th>\n",
       "      <td>0.0</td>\n",
       "      <td>799.2</td>\n",
       "      <td>398.7</td>\n",
       "    </tr>\n",
       "    <tr>\n",
       "      <th>3</th>\n",
       "      <td>0.0</td>\n",
       "      <td>800.0</td>\n",
       "      <td>371.8</td>\n",
       "    </tr>\n",
       "  </tbody>\n",
       "</table>\n",
       "</div>"
      ],
      "text/plain": [
       "    s1     s2     s3\n",
       "1  0.0    0.0    0.0\n",
       "2  0.0  799.2  398.7\n",
       "3  0.0  800.0  371.8"
      ]
     },
     "execution_count": 27,
     "metadata": {},
     "output_type": "execute_result"
    }
   ],
   "source": [
    "rows = years.copy()\n",
    "columns = skills.copy()\n",
    "hire_plan = pd.DataFrame(columns=columns, index=rows, data=0.0)\n",
    "\n",
    "for year, level in recruited.keys():\n",
    "    if (abs(model.getVal(recruited[year, level])) > 1e-6):\n",
    "        hire_plan.loc[year, level] = np.round(model.getVal(recruited[year, level]), 1)\n",
    "hire_plan"
   ]
  },
  {
   "cell_type": "code",
   "execution_count": 28,
   "metadata": {
    "ExecuteTime": {
     "end_time": "2021-07-03T03:39:18.368961Z",
     "start_time": "2021-07-03T03:39:18.346443Z"
    }
   },
   "outputs": [
    {
     "data": {
      "text/html": [
       "<div>\n",
       "<style scoped>\n",
       "    .dataframe tbody tr th:only-of-type {\n",
       "        vertical-align: middle;\n",
       "    }\n",
       "\n",
       "    .dataframe tbody tr th {\n",
       "        vertical-align: top;\n",
       "    }\n",
       "\n",
       "    .dataframe thead th {\n",
       "        text-align: right;\n",
       "    }\n",
       "</style>\n",
       "<table border=\"1\" class=\"dataframe\">\n",
       "  <thead>\n",
       "    <tr style=\"text-align: right;\">\n",
       "      <th></th>\n",
       "      <th>s1 to s2</th>\n",
       "      <th>s1 to s3</th>\n",
       "      <th>s2 to s1</th>\n",
       "      <th>s2 to s3</th>\n",
       "      <th>s3 to s1</th>\n",
       "      <th>s3 to s2</th>\n",
       "    </tr>\n",
       "  </thead>\n",
       "  <tbody>\n",
       "    <tr>\n",
       "      <th>1</th>\n",
       "      <td>200.0</td>\n",
       "      <td>0.0</td>\n",
       "      <td>0.0</td>\n",
       "      <td>256.0</td>\n",
       "      <td>0.0</td>\n",
       "      <td>168.0</td>\n",
       "    </tr>\n",
       "    <tr>\n",
       "      <th>2</th>\n",
       "      <td>200.0</td>\n",
       "      <td>0.0</td>\n",
       "      <td>0.0</td>\n",
       "      <td>176.0</td>\n",
       "      <td>0.0</td>\n",
       "      <td>0.0</td>\n",
       "    </tr>\n",
       "    <tr>\n",
       "      <th>3</th>\n",
       "      <td>200.0</td>\n",
       "      <td>0.0</td>\n",
       "      <td>0.0</td>\n",
       "      <td>253.0</td>\n",
       "      <td>0.0</td>\n",
       "      <td>0.0</td>\n",
       "    </tr>\n",
       "  </tbody>\n",
       "</table>\n",
       "</div>"
      ],
      "text/plain": [
       "   s1 to s2  s1 to s3  s2 to s1  s2 to s3  s3 to s1  s3 to s2\n",
       "1     200.0       0.0       0.0     256.0       0.0     168.0\n",
       "2     200.0       0.0       0.0     176.0       0.0       0.0\n",
       "3     200.0       0.0       0.0     253.0       0.0       0.0"
      ]
     },
     "execution_count": 28,
     "metadata": {},
     "output_type": "execute_result"
    }
   ],
   "source": [
    "rows = years.copy()\n",
    "columns = ['{0} to {1}'.format(level1, level2) for level1 in skills for level2 in skills if level1 != level2]\n",
    "train_plan = pd.DataFrame(columns=columns, index=rows, data=0.0)\n",
    "\n",
    "for year, level1, level2 in retrained.keys():\n",
    "    col = '{0} to {1}'.format(level1, level2)\n",
    "    if (abs(model.getVal(retrained[year, level1, level2])) > 1e-6):\n",
    "        train_plan.loc[year, col] = np.round(model.getVal(retrained[year, level1, level2]), 1)\n",
    "train_plan"
   ]
  },
  {
   "cell_type": "code",
   "execution_count": 29,
   "metadata": {
    "ExecuteTime": {
     "end_time": "2021-07-03T03:40:37.106201Z",
     "start_time": "2021-07-03T03:40:37.088435Z"
    }
   },
   "outputs": [
    {
     "data": {
      "text/html": [
       "<div>\n",
       "<style scoped>\n",
       "    .dataframe tbody tr th:only-of-type {\n",
       "        vertical-align: middle;\n",
       "    }\n",
       "\n",
       "    .dataframe tbody tr th {\n",
       "        vertical-align: top;\n",
       "    }\n",
       "\n",
       "    .dataframe thead th {\n",
       "        text-align: right;\n",
       "    }\n",
       "</style>\n",
       "<table border=\"1\" class=\"dataframe\">\n",
       "  <thead>\n",
       "    <tr style=\"text-align: right;\">\n",
       "      <th></th>\n",
       "      <th>s1</th>\n",
       "      <th>s2</th>\n",
       "      <th>s3</th>\n",
       "    </tr>\n",
       "  </thead>\n",
       "  <tbody>\n",
       "    <tr>\n",
       "      <th>1</th>\n",
       "      <td>443.2</td>\n",
       "      <td>0.0</td>\n",
       "      <td>0.0</td>\n",
       "    </tr>\n",
       "    <tr>\n",
       "      <th>2</th>\n",
       "      <td>166.1</td>\n",
       "      <td>0.0</td>\n",
       "      <td>0.0</td>\n",
       "    </tr>\n",
       "    <tr>\n",
       "      <th>3</th>\n",
       "      <td>232.5</td>\n",
       "      <td>0.0</td>\n",
       "      <td>0.0</td>\n",
       "    </tr>\n",
       "  </tbody>\n",
       "</table>\n",
       "</div>"
      ],
      "text/plain": [
       "      s1   s2   s3\n",
       "1  443.2  0.0  0.0\n",
       "2  166.1  0.0  0.0\n",
       "3  232.5  0.0  0.0"
      ]
     },
     "execution_count": 29,
     "metadata": {},
     "output_type": "execute_result"
    }
   ],
   "source": [
    "rows = years.copy()\n",
    "columns = skills.copy()\n",
    "layoff_plan = pd.DataFrame(columns=columns, index=rows, data=0.0)\n",
    "\n",
    "for year, level in redundant.keys():\n",
    "    if (abs(model.getVal(redundant[year, level])) > 1e-6):\n",
    "        layoff_plan.loc[year, level] = np.round(model.getVal(redundant[year, level]), 1)\n",
    "layoff_plan"
   ]
  },
  {
   "cell_type": "code",
   "execution_count": 30,
   "metadata": {
    "ExecuteTime": {
     "end_time": "2021-07-03T03:41:23.787848Z",
     "start_time": "2021-07-03T03:41:23.769806Z"
    }
   },
   "outputs": [
    {
     "data": {
      "text/html": [
       "<div>\n",
       "<style scoped>\n",
       "    .dataframe tbody tr th:only-of-type {\n",
       "        vertical-align: middle;\n",
       "    }\n",
       "\n",
       "    .dataframe tbody tr th {\n",
       "        vertical-align: top;\n",
       "    }\n",
       "\n",
       "    .dataframe thead th {\n",
       "        text-align: right;\n",
       "    }\n",
       "</style>\n",
       "<table border=\"1\" class=\"dataframe\">\n",
       "  <thead>\n",
       "    <tr style=\"text-align: right;\">\n",
       "      <th></th>\n",
       "      <th>s1</th>\n",
       "      <th>s2</th>\n",
       "      <th>s3</th>\n",
       "    </tr>\n",
       "  </thead>\n",
       "  <tbody>\n",
       "    <tr>\n",
       "      <th>1</th>\n",
       "      <td>50.0</td>\n",
       "      <td>50.0</td>\n",
       "      <td>50.0</td>\n",
       "    </tr>\n",
       "    <tr>\n",
       "      <th>2</th>\n",
       "      <td>50.0</td>\n",
       "      <td>48.4</td>\n",
       "      <td>0.0</td>\n",
       "    </tr>\n",
       "    <tr>\n",
       "      <th>3</th>\n",
       "      <td>50.0</td>\n",
       "      <td>0.0</td>\n",
       "      <td>0.0</td>\n",
       "    </tr>\n",
       "  </tbody>\n",
       "</table>\n",
       "</div>"
      ],
      "text/plain": [
       "     s1    s2    s3\n",
       "1  50.0  50.0  50.0\n",
       "2  50.0  48.4   0.0\n",
       "3  50.0   0.0   0.0"
      ]
     },
     "execution_count": 30,
     "metadata": {},
     "output_type": "execute_result"
    }
   ],
   "source": [
    "rows = years.copy()\n",
    "columns = skills.copy()\n",
    "parttime_plan = pd.DataFrame(columns=columns, index=rows, data=0.0)\n",
    "\n",
    "for year, level in shorttime.keys():\n",
    "    if (abs(model.getVal(shorttime[year, level])) > 1e-6):\n",
    "        parttime_plan.loc[year, level] = np.round(model.getVal(shorttime[year, level]), 1)\n",
    "parttime_plan"
   ]
  },
  {
   "cell_type": "code",
   "execution_count": 31,
   "metadata": {
    "ExecuteTime": {
     "end_time": "2021-07-03T03:42:05.668208Z",
     "start_time": "2021-07-03T03:42:05.651630Z"
    }
   },
   "outputs": [
    {
     "data": {
      "text/html": [
       "<div>\n",
       "<style scoped>\n",
       "    .dataframe tbody tr th:only-of-type {\n",
       "        vertical-align: middle;\n",
       "    }\n",
       "\n",
       "    .dataframe tbody tr th {\n",
       "        vertical-align: top;\n",
       "    }\n",
       "\n",
       "    .dataframe thead th {\n",
       "        text-align: right;\n",
       "    }\n",
       "</style>\n",
       "<table border=\"1\" class=\"dataframe\">\n",
       "  <thead>\n",
       "    <tr style=\"text-align: right;\">\n",
       "      <th></th>\n",
       "      <th>s1</th>\n",
       "      <th>s2</th>\n",
       "      <th>s3</th>\n",
       "    </tr>\n",
       "  </thead>\n",
       "  <tbody>\n",
       "    <tr>\n",
       "      <th>1</th>\n",
       "      <td>131.8</td>\n",
       "      <td>18.0</td>\n",
       "      <td>0.2</td>\n",
       "    </tr>\n",
       "    <tr>\n",
       "      <th>2</th>\n",
       "      <td>150.0</td>\n",
       "      <td>0.0</td>\n",
       "      <td>0.0</td>\n",
       "    </tr>\n",
       "    <tr>\n",
       "      <th>3</th>\n",
       "      <td>150.0</td>\n",
       "      <td>0.0</td>\n",
       "      <td>0.0</td>\n",
       "    </tr>\n",
       "  </tbody>\n",
       "</table>\n",
       "</div>"
      ],
      "text/plain": [
       "      s1    s2   s3\n",
       "1  131.8  18.0  0.2\n",
       "2  150.0   0.0  0.0\n",
       "3  150.0   0.0  0.0"
      ]
     },
     "execution_count": 31,
     "metadata": {},
     "output_type": "execute_result"
    }
   ],
   "source": [
    "rows = years.copy()\n",
    "columns = skills.copy()\n",
    "excess_plan = pd.DataFrame(columns=columns, index=rows, data=0.0)\n",
    "\n",
    "for year, level in overmanning.keys():\n",
    "    if (abs(model.getVal(overmanning[year, level])) > 1e-6):\n",
    "        excess_plan.loc[year, level] = np.round(model.getVal(overmanning[year, level]), 1)\n",
    "excess_plan"
   ]
  },
  {
   "cell_type": "code",
   "execution_count": null,
   "metadata": {},
   "outputs": [],
   "source": []
  }
 ],
 "metadata": {
  "hide_input": false,
  "kernelspec": {
   "display_name": "Python 3",
   "language": "python",
   "name": "python3"
  },
  "language_info": {
   "codemirror_mode": {
    "name": "ipython",
    "version": 3
   },
   "file_extension": ".py",
   "mimetype": "text/x-python",
   "name": "python",
   "nbconvert_exporter": "python",
   "pygments_lexer": "ipython3",
   "version": "3.8.3"
  },
  "toc": {
   "base_numbering": 1,
   "nav_menu": {},
   "number_sections": true,
   "sideBar": true,
   "skip_h1_title": false,
   "title_cell": "Table of Contents",
   "title_sidebar": "Contents",
   "toc_cell": false,
   "toc_position": {},
   "toc_section_display": true,
   "toc_window_display": false
  },
  "varInspector": {
   "cols": {
    "lenName": 16,
    "lenType": 16,
    "lenVar": 40
   },
   "kernels_config": {
    "python": {
     "delete_cmd_postfix": "",
     "delete_cmd_prefix": "del ",
     "library": "var_list.py",
     "varRefreshCmd": "print(var_dic_list())"
    },
    "r": {
     "delete_cmd_postfix": ") ",
     "delete_cmd_prefix": "rm(",
     "library": "var_list.r",
     "varRefreshCmd": "cat(var_dic_list()) "
    }
   },
   "types_to_exclude": [
    "module",
    "function",
    "builtin_function_or_method",
    "instance",
    "_Feature"
   ],
   "window_display": false
  }
 },
 "nbformat": 4,
 "nbformat_minor": 4
}
