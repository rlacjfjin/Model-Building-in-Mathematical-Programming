{
 "cells": [
  {
   "cell_type": "code",
   "execution_count": 1,
   "id": "ab44205f",
   "metadata": {},
   "outputs": [],
   "source": [
    "import sys\n",
    "import math\n",
    "import random\n",
    "import networkx\n",
    "import matplotlib.pyplot as plt"
   ]
  },
  {
   "cell_type": "code",
   "execution_count": 2,
   "id": "3480dc40",
   "metadata": {},
   "outputs": [],
   "source": [
    "# number of locations, including the depot. The index of the depot is 0\n",
    "n = 17\n",
    "locations = [*range(n)]\n",
    "\n",
    "# number of vans\n",
    "K = 6\n",
    "vans = [*range(K)]\n",
    "\n",
    "# Create n random points\n",
    "# Depot is located at (0,0) coordinates\n",
    "random.seed(1)\n",
    "points = [(0, 0)]\n",
    "points += [(random.randint(0, 50), random.randint(0, 50)) for i in range(n-1)]\n",
    "\n",
    "# Dictionary of Euclidean distance between each pair of points\n",
    "# Assume a speed of 60 km/hr, which is 1 km/min. Hence travel time = distance\n",
    "time = {(i, j):\n",
    "        math.sqrt(sum((points[i][k]-points[j][k])**2 for k in range(2)))\n",
    "        for i in locations for j in locations if i != j}"
   ]
  },
  {
   "cell_type": "code",
   "execution_count": 3,
   "id": "f99cbf82",
   "metadata": {},
   "outputs": [],
   "source": [
    "import pyscipopt as scip\n",
    "from pyscipopt import Model, Heur, Eventhdlr, Conshdlr, quicksum, SCIP_RESULT, SCIP_EVENTTYPE, SCIP_HEURTIMING"
   ]
  },
  {
   "cell_type": "code",
   "execution_count": 32,
   "id": "551fc258",
   "metadata": {},
   "outputs": [],
   "source": [
    "m = scip.Model()"
   ]
  },
  {
   "cell_type": "code",
   "execution_count": null,
   "id": "e43f7f96",
   "metadata": {},
   "outputs": [],
   "source": []
  },
  {
   "cell_type": "markdown",
   "id": "636f3c4e",
   "metadata": {},
   "source": [
    "Create variables"
   ]
  },
  {
   "cell_type": "code",
   "execution_count": 33,
   "id": "788cc9c7",
   "metadata": {},
   "outputs": [],
   "source": [
    "x = dict()\n",
    "y = dict()\n",
    "z = dict()\n",
    "t  = dict()\n",
    "s = dict()\n",
    "for i,j in time.keys():\n",
    "    for k in vans:\n",
    "        x[(i,j,k)] = m.addVar(vtype=\"B\",name=\"x(%s,%s,%s)\"%(i,j,k))\n",
    "for i in locations:\n",
    "    for k in vans:\n",
    "        y[(i,k)] = m.addVar(vtype=\"B\",name=\"y(%s,%s)\"%(i,k))\n",
    "\n",
    "for k in vans:\n",
    "    z[k] = m.addVar(vtype=\"B\",name=\"z(%s)\"%k)\n",
    "\n",
    "for k in vans:\n",
    "    t[k] = m.addVar(vtype=\"C\",ub=120,name=\"t(%s)\"%k)\n",
    "\n",
    "s = m.addVar(name=\"s\")\n"
   ]
  },
  {
   "cell_type": "markdown",
   "id": "0a25dc22",
   "metadata": {},
   "source": [
    "Constraints"
   ]
  },
  {
   "cell_type": "code",
   "execution_count": 34,
   "id": "308ae25a",
   "metadata": {},
   "outputs": [],
   "source": [
    "# 1. Van utilization constraint\n",
    "\n",
    "for i in locations:\n",
    "    if i > 0:\n",
    "        for k in vans:\n",
    "            m.addCons(y[(i,k)] <= z[k])\n"
   ]
  },
  {
   "cell_type": "code",
   "execution_count": 35,
   "id": "abf03bb9",
   "metadata": {},
   "outputs": [],
   "source": [
    "# 2. Travel time constraint\n",
    "for k in vans:\n",
    "#     m.addCons(scip.quicksum(time[i,j]*x[(i,j,k)] for i,j in time.keys() if j > 0) == t[k])\n",
    "    m.addCons(scip.quicksum(time[i,j]*x[(i,j,k)] for i,j in time.keys() if j > 0) == t[k])\n",
    "        "
   ]
  },
  {
   "cell_type": "code",
   "execution_count": 36,
   "id": "68a87cef",
   "metadata": {},
   "outputs": [],
   "source": [
    "# 3. Visit all customers\n",
    "for i in locations:\n",
    "    if i > 0:\n",
    "        m.addCons(scip.quicksum(y[(i,k)] for k in vans) == 1)\n"
   ]
  },
  {
   "cell_type": "code",
   "execution_count": 37,
   "id": "74ba0e5b",
   "metadata": {},
   "outputs": [
    {
     "data": {
      "text/plain": [
       "c119"
      ]
     },
     "execution_count": 37,
     "metadata": {},
     "output_type": "execute_result"
    }
   ],
   "source": [
    "# 4. Depot constraint\n",
    "m.addCons(scip.quicksum(y[(0,k)] for k in vans) >= scip.quicksum(z[k] for k in vans))"
   ]
  },
  {
   "cell_type": "code",
   "execution_count": 38,
   "id": "9d3633b8",
   "metadata": {
    "scrolled": true
   },
   "outputs": [],
   "source": [
    "# 5. Arriving at a customer location constraint\n",
    "for j,k in y.keys():\n",
    "    m.addCons(scip.quicksum(x[(i,j,k)] for i in locations if (i,j) in time.keys()) == y[(j,k)])\n"
   ]
  },
  {
   "cell_type": "code",
   "execution_count": 39,
   "id": "2146c3ea",
   "metadata": {},
   "outputs": [],
   "source": [
    "# 6. Leaving a customer location constraint\n",
    "for j,k in y.keys():\n",
    "    m.addCons(scip.quicksum(x[(j,i,k)] for i in locations if (i,j) in time.keys()) == y[(j,k)])\n"
   ]
  },
  {
   "cell_type": "code",
   "execution_count": 40,
   "id": "8054b897",
   "metadata": {},
   "outputs": [],
   "source": [
    "# 7. Breaking symmetry constraints.\n",
    "for k in vans:\n",
    "    if k > 0:\n",
    "        m.addCons(scip.quicksum(y[(i,k-1)] for i in locations) >= scip.quicksum(y[(i,k)] for i in locations))\n"
   ]
  },
  {
   "cell_type": "code",
   "execution_count": 41,
   "id": "9a9caae0",
   "metadata": {},
   "outputs": [],
   "source": [
    "# 8. Relate the maximum travel time to the travel times of each van\n",
    "for k in vans:\n",
    "    m.addCons(t[k] <= s)"
   ]
  },
  {
   "cell_type": "code",
   "execution_count": 42,
   "id": "098e21c1",
   "metadata": {},
   "outputs": [],
   "source": [
    "class SEC(Conshdlr):\n",
    "\n",
    "    # method for creating a constraint of this constraint handler type\n",
    "    def createCons(self, name, variables):\n",
    "        model = self.model\n",
    "        cons = model.createCons(self, name)\n",
    "        \n",
    "        # data relevant for the constraint; in this case we only need to know which\n",
    "        # variables cannot form a subtour\n",
    "        cons.data = {}\n",
    "        cons.data['vars'] = variables\n",
    "        return cons\n",
    "    \n",
    "    # find subtours in the graph induced by the edges {i,j} for which x[i,j] is positive\n",
    "    # at the given solution; when solution is None, the LP solution is used\n",
    "    def find_subtours(self, cons, solution = None):\n",
    "        for k in vans:\n",
    "            edges = []\n",
    "            x = cons.data['vars']\n",
    "            for i,j in time.keys():\n",
    "                if self.model.getSolVal(solution, x[(i,j,k)]) > 0.5:\n",
    "                    edges.append((i, j))\n",
    "\n",
    "            G = networkx.Graph()\n",
    "            G.add_edges_from(edges)\n",
    "            components = list(networkx.connected_components(G))\n",
    "#             print(k,\"XXXX\",len(components),components)\n",
    "            if len(components) > 1:\n",
    "                return components\n",
    "        return []\n",
    "\n",
    "\n",
    "    # checks whether solution is feasible\n",
    "    def conscheck(self, constraints, solution, check_integrality,\n",
    "                  check_lp_rows, print_reason, completely, **results):\n",
    "        \n",
    "        # check if there is a violated subtour elimination constraint\n",
    "        for cons in constraints:\n",
    "            if self.find_subtours(cons, solution):\n",
    "                return {\"result\": SCIP_RESULT.INFEASIBLE}\n",
    "        \n",
    "        # no violated constriant found -> feasible\n",
    "        return {\"result\": SCIP_RESULT.FEASIBLE}\n",
    "\n",
    "    \n",
    "    # enforces the LP solution: searches for subtours in the solution and adds \n",
    "    # adds constraints forbidding all the found subtours\n",
    "    def consenfolp(self, constraints, n_useful_conss, sol_infeasible):\n",
    "        consadded = False\n",
    "        for cons in constraints:\n",
    "            subtours = self.find_subtours(cons)\n",
    "            # if there are subtours\n",
    "            if subtours:\n",
    "                x = cons.data['vars']\n",
    "                for k in vans:\n",
    "                    # add subtour elimination constraint for each subtour\n",
    "                    for S in subtours:\n",
    "                        self.model.addCons(quicksum(x[(i,j,k)] for i in S for j in S if (i,j) in time.keys()) <= len(S)-1)\n",
    "                        consadded = True\n",
    "\n",
    "        if consadded:\n",
    "            return {\"result\": SCIP_RESULT.CONSADDED}\n",
    "        return {\"result\": SCIP_RESULT.FEASIBLE}\n",
    "\n",
    "\n",
    "\n",
    "    # this is rather technical and not relevant for the exercise. to learn more see \n",
    "    # https://scipopt.org/doc/html/CONS.php#CONS_FUNDAMENTALCALLBACKS\n",
    "    def conslock(self, constraint, locktype, nlockspos, nlocksneg):\n",
    "        pass"
   ]
  },
  {
   "cell_type": "code",
   "execution_count": 43,
   "id": "0d8a46c7",
   "metadata": {},
   "outputs": [],
   "source": [
    "def addSubtourElimination(model, x):\n",
    "    # create the constraint handler\n",
    "    conshdlr = SEC()\n",
    "\n",
    "    # Add the constraint handler to SCIP. We set check priority < 0 so that only integer feasible solutions\n",
    "    # are passed to the conscheck callback\n",
    "    model.includeConshdlr(conshdlr, \"TSP\", \"TSP subtour eliminator\", chckpriority = -10, enfopriority = -10)\n",
    "\n",
    "    # create a subtour elimination constraint\n",
    "    cons = conshdlr.createCons(\"no_subtour_cons\", x)\n",
    "\n",
    "    # add constraint to SCIP\n",
    "    model.addPyCons(cons)"
   ]
  },
  {
   "cell_type": "code",
   "execution_count": 44,
   "id": "1ef25a35",
   "metadata": {},
   "outputs": [],
   "source": [
    "addSubtourElimination(m, x)\n"
   ]
  },
  {
   "cell_type": "code",
   "execution_count": 45,
   "id": "227a035b",
   "metadata": {},
   "outputs": [],
   "source": [
    "m.setObjective(100*scip.quicksum(z[k] for k in vans) + s)"
   ]
  },
  {
   "cell_type": "code",
   "execution_count": 46,
   "id": "fb2cf0ec",
   "metadata": {},
   "outputs": [],
   "source": [
    "m.optimize()"
   ]
  },
  {
   "cell_type": "code",
   "execution_count": 47,
   "id": "a6e2c471",
   "metadata": {},
   "outputs": [
    {
     "data": {
      "text/plain": [
       "'optimal'"
      ]
     },
     "execution_count": 47,
     "metadata": {},
     "output_type": "execute_result"
    }
   ],
   "source": [
    "m.getStatus()"
   ]
  },
  {
   "cell_type": "code",
   "execution_count": 48,
   "id": "13b5d20d",
   "metadata": {},
   "outputs": [
    {
     "data": {
      "text/plain": [
       "305.4165478153551"
      ]
     },
     "execution_count": 48,
     "metadata": {},
     "output_type": "execute_result"
    }
   ],
   "source": [
    "m.getObjVal()"
   ]
  },
  {
   "cell_type": "code",
   "execution_count": 49,
   "id": "775c5638",
   "metadata": {},
   "outputs": [],
   "source": [
    "def find_next(route,node):\n",
    "    for i, j in enumerate(route):\n",
    "        if node == j[0]:\n",
    "            return j[1]\n",
    "        "
   ]
  },
  {
   "cell_type": "code",
   "execution_count": 50,
   "id": "69df9b33",
   "metadata": {},
   "outputs": [
    {
     "name": "stdout",
     "output_type": "stream",
     "text": [
      "Route for van 0: 0 -> 3 -> 16 -> 15 -> 2 -> 7 -> 14 -> 6 -> 5 -> 13 -> 0. Travel time: 105.42 min\n",
      "Route for van 1: 0 -> 9 -> 8 -> 12 -> 1 -> 10 -> 4 -> 11 -> 0. Travel time: 105.16 min\n",
      "Max travel time: 105.42\n"
     ]
    }
   ],
   "source": [
    "# Print optimal routes\n",
    "for k in vans:\n",
    "    route = []\n",
    "    for i,j in time.keys():\n",
    "        if m.getVal(x[(i,j,k)]) > 0.5:\n",
    "            route.append((i,j))\n",
    "    if route:\n",
    "        i = 0\n",
    "        print(f\"Route for van {k}: {i}\", end='')\n",
    "        while True:\n",
    "            i = find_next(route,i)\n",
    "            print(f\" -> {i}\", end='')\n",
    "            if i == 0:\n",
    "                break\n",
    "        print(f\". Travel time: {round(m.getVal(t[k]),2)} min\")\n",
    "\n",
    "print(f\"Max travel time: {round(m.getVal(s),2)}\")"
   ]
  },
  {
   "cell_type": "code",
   "execution_count": null,
   "id": "06398d26",
   "metadata": {},
   "outputs": [],
   "source": []
  },
  {
   "cell_type": "code",
   "execution_count": null,
   "id": "7ce7864e",
   "metadata": {},
   "outputs": [],
   "source": []
  },
  {
   "cell_type": "code",
   "execution_count": 51,
   "id": "857377a1",
   "metadata": {},
   "outputs": [
    {
     "name": "stdout",
     "output_type": "stream",
     "text": [
      "[{0, 2, 3, 5, 6, 7, 13, 14, 15, 16}]\n"
     ]
    },
    {
     "data": {
      "image/png": "[encoded data removed]",
      "text/plain": [
       "<Figure size 1000x600 with 1 Axes>"
      ]
     },
     "metadata": {},
     "output_type": "display_data"
    },
    {
     "name": "stdout",
     "output_type": "stream",
     "text": [
      "[{0, 1, 4, 8, 9, 10, 11, 12}]\n"
     ]
    },
    {
     "data": {
      "image/png": "[encoded data removed]",
      "text/plain": [
       "<Figure size 1000x600 with 1 Axes>"
      ]
     },
     "metadata": {},
     "output_type": "display_data"
    }
   ],
   "source": [
    "sol = m.getBestSol()\n",
    "for k in vans:\n",
    "    edges = []\n",
    "    for i,j in time.keys():\n",
    "        if m.getSolVal(sol, x[(i,j,k)]) > 0.5: # variable is binary so > 0.5 --> is 1\n",
    "            edges.append( (i,j) )\n",
    "    if edges == []:\n",
    "        continue\n",
    "    plt.figure(figsize=(10,6), dpi=100)\n",
    "    # create empty graph\n",
    "    optgraph = networkx.Graph()\n",
    "\n",
    "    # add edges\n",
    "    optgraph.add_edges_from(edges)\n",
    "    components = list(networkx.connected_components(optgraph))\n",
    "\n",
    "    print(components)\n",
    "    # draw the nodes, with labels in the position xy (see when we read the instance)\n",
    "    networkx.draw(optgraph, node_size=300, pos=points, with_labels=True, node_color='lightblue')\n",
    "\n",
    "    # show drawing\n",
    "    plt.show()"
   ]
  },
  {
   "cell_type": "code",
   "execution_count": null,
   "id": "5498148b",
   "metadata": {},
   "outputs": [],
   "source": []
  },
  {
   "cell_type": "code",
   "execution_count": null,
   "id": "9159df5e",
   "metadata": {},
   "outputs": [],
   "source": []
  },
  {
   "cell_type": "code",
   "execution_count": null,
   "id": "92c41df1",
   "metadata": {},
   "outputs": [],
   "source": []
  },
  {
   "cell_type": "code",
   "execution_count": null,
   "id": "9e349497",
   "metadata": {},
   "outputs": [],
   "source": []
  }
 ],
 "metadata": {
  "kernelspec": {
   "display_name": "Python 3",
   "language": "python",
   "name": "python3"
  },
  "language_info": {
   "codemirror_mode": {
    "name": "ipython",
    "version": 3
   },
   "file_extension": ".py",
   "mimetype": "text/x-python",
   "name": "python",
   "nbconvert_exporter": "python",
   "pygments_lexer": "ipython3",
   "version": "3.7.10"
  },
  "toc": {
   "base_numbering": 1,
   "nav_menu": {},
   "number_sections": true,
   "sideBar": true,
   "skip_h1_title": false,
   "title_cell": "Table of Contents",
   "title_sidebar": "Contents",
   "toc_cell": false,
   "toc_position": {},
   "toc_section_display": true,
   "toc_window_display": false
  }
 },
 "nbformat": 4,
 "nbformat_minor": 5
}
