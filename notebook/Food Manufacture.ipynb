{
 "cells": [
  {
   "cell_type": "code",
   "execution_count": 1,
   "metadata": {
    "ExecuteTime": {
     "end_time": "2021-06-27T15:08:44.071221Z",
     "start_time": "2021-06-27T15:08:43.575915Z"
    }
   },
   "outputs": [],
   "source": [
    "import pyscipopt as scip\n",
    "import pandas as pd\n",
    "import numpy as np"
   ]
  },
  {
   "cell_type": "code",
   "execution_count": 7,
   "metadata": {
    "ExecuteTime": {
     "end_time": "2021-06-27T15:15:53.841322Z",
     "start_time": "2021-06-27T15:15:53.835968Z"
    }
   },
   "outputs": [],
   "source": [
    "def food_manufacture_model(data):\n",
    "    model = scip.Model(\"Food Manufacture\")\n",
    "    add_variables(model)\n",
    "    add_constraints(model)\n",
    "    add_objective(model)\n",
    "    return model\n",
    "\n",
    "    "
   ]
  },
  {
   "cell_type": "code",
   "execution_count": 4,
   "metadata": {
    "ExecuteTime": {
     "end_time": "2021-06-27T15:11:36.238566Z",
     "start_time": "2021-06-27T15:11:36.226708Z"
    }
   },
   "outputs": [],
   "source": [
    "# Parameters\n",
    "\n",
    "months = [\"Jan\", \"Feb\", \"Mar\", \"Apr\", \"May\", \"Jun\"]\n",
    "\n",
    "oils = [\"VEG1\", \"VEG2\", \"OIL1\", \"OIL2\", \"OIL3\"]\n",
    "\n",
    "cost = {\n",
    "    ('Jan', 'VEG1'): 110,\n",
    "    ('Jan', 'VEG2'): 120,\n",
    "    ('Jan', 'OIL1'): 130,\n",
    "    ('Jan', 'OIL2'): 110,\n",
    "    ('Jan', 'OIL3'): 115,\n",
    "    ('Feb', 'VEG1'): 130,\n",
    "    ('Feb', 'VEG2'): 130,\n",
    "    ('Feb', 'OIL1'): 110,\n",
    "    ('Feb', 'OIL2'): 90,\n",
    "    ('Feb', 'OIL3'): 115,\n",
    "    ('Mar', 'VEG1'): 110,\n",
    "    ('Mar', 'VEG2'): 140,\n",
    "    ('Mar', 'OIL1'): 130,\n",
    "    ('Mar', 'OIL2'): 100,\n",
    "    ('Mar', 'OIL3'): 95,\n",
    "    ('Apr', 'VEG1'): 120,\n",
    "    ('Apr', 'VEG2'): 110,\n",
    "    ('Apr', 'OIL1'): 120,\n",
    "    ('Apr', 'OIL2'): 120,\n",
    "    ('Apr', 'OIL3'): 125,\n",
    "    ('May', 'VEG1'): 100,\n",
    "    ('May', 'VEG2'): 120,\n",
    "    ('May', 'OIL1'): 150,\n",
    "    ('May', 'OIL2'): 110,\n",
    "    ('May', 'OIL3'): 105,\n",
    "    ('Jun', 'VEG1'): 90,\n",
    "    ('Jun', 'VEG2'): 100,\n",
    "    ('Jun', 'OIL1'): 140,\n",
    "    ('Jun', 'OIL2'): 80,\n",
    "    ('Jun', 'OIL3'): 135\n",
    "}\n",
    "\n",
    "\n",
    "hardness = {\"VEG1\": 8.8, \"VEG2\": 6.1, \"OIL1\": 2.0, \"OIL2\": 4.2, \"OIL3\": 5.0}\n",
    "\n",
    "price = 150\n",
    "init_store = 500\n",
    "target_store = 500\n",
    "veg_cap = 200\n",
    "oil_cap = 250\n",
    "\n",
    "min_hardness = 3\n",
    "max_hardness = 6\n",
    "holding_cost = 5"
   ]
  },
  {
   "cell_type": "code",
   "execution_count": 5,
   "metadata": {
    "ExecuteTime": {
     "end_time": "2021-06-27T15:12:31.407056Z",
     "start_time": "2021-06-27T15:12:31.402366Z"
    }
   },
   "outputs": [],
   "source": [
    "data = {}\n",
    "data[\"months\"] = months\n",
    "data[\"oils\"] = oils\n",
    "data[\"cost\"] = cost\n",
    "data[\"hardness\"] = hardness"
   ]
  },
  {
   "cell_type": "code",
   "execution_count": 6,
   "metadata": {
    "ExecuteTime": {
     "end_time": "2021-06-27T15:12:46.376664Z",
     "start_time": "2021-06-27T15:12:46.366223Z"
    }
   },
   "outputs": [],
   "source": [
    "model = scip.Model(\"Food Manufacture\")\n",
    "\n"
   ]
  },
  {
   "cell_type": "code",
   "execution_count": 8,
   "metadata": {
    "ExecuteTime": {
     "end_time": "2021-06-27T15:17:16.523795Z",
     "start_time": "2021-06-27T15:17:16.519545Z"
    }
   },
   "outputs": [],
   "source": [
    "## 定义变量\n",
    "### Quantity of food produced in each period\n",
    "produce = dict()\n",
    "### Quantity bought of each product in each period\n",
    "buy = dict()\n",
    "### Quantity used of each product  in each period\n",
    "consume = dict()\n",
    "### Quantity stored of each product  in each period\n",
    "store = dict()"
   ]
  },
  {
   "cell_type": "code",
   "execution_count": 13,
   "metadata": {
    "ExecuteTime": {
     "end_time": "2021-06-27T15:23:07.244944Z",
     "start_time": "2021-06-27T15:23:07.238145Z"
    }
   },
   "outputs": [],
   "source": [
    "for month in months:\n",
    "    produce[month] = model.addVar(name=\"produce_\"+month,vtype=\"C\")\n",
    "    for oil in oils:\n",
    "        buy[month,oil] = model.addVar(name=\"buy_\"+month + \"_\" + oil,vtype=\"C\")\n",
    "        consume[month,oil] = model.addVar(name=\"consume_\"+month + \"_\" + oil,vtype=\"C\")\n",
    "        store[month,oil] = model.addVar(name=\"store_\"+month + \"_\" + oil,vtype=\"C\")"
   ]
  },
  {
   "cell_type": "code",
   "execution_count": 14,
   "metadata": {
    "ExecuteTime": {
     "end_time": "2021-06-27T15:23:11.480334Z",
     "start_time": "2021-06-27T15:23:11.464345Z"
    },
    "collapsed": true
   },
   "outputs": [
    {
     "data": {
      "text/plain": [
       "{('Jan', 'VEG1'): buy_Jan_VEG1,\n",
       " ('Jan', 'VEG2'): buy_Jan_VEG2,\n",
       " ('Jan', 'OIL1'): buy_Jan_OIL1,\n",
       " ('Jan', 'OIL2'): buy_Jan_OIL2,\n",
       " ('Jan', 'OIL3'): buy_Jan_OIL3,\n",
       " ('Feb', 'VEG1'): buy_Feb_VEG1,\n",
       " ('Feb', 'VEG2'): buy_Feb_VEG2,\n",
       " ('Feb', 'OIL1'): buy_Feb_OIL1,\n",
       " ('Feb', 'OIL2'): buy_Feb_OIL2,\n",
       " ('Feb', 'OIL3'): buy_Feb_OIL3,\n",
       " ('Mar', 'VEG1'): buy_Mar_VEG1,\n",
       " ('Mar', 'VEG2'): buy_Mar_VEG2,\n",
       " ('Mar', 'OIL1'): buy_Mar_OIL1,\n",
       " ('Mar', 'OIL2'): buy_Mar_OIL2,\n",
       " ('Mar', 'OIL3'): buy_Mar_OIL3,\n",
       " ('Apr', 'VEG1'): buy_Apr_VEG1,\n",
       " ('Apr', 'VEG2'): buy_Apr_VEG2,\n",
       " ('Apr', 'OIL1'): buy_Apr_OIL1,\n",
       " ('Apr', 'OIL2'): buy_Apr_OIL2,\n",
       " ('Apr', 'OIL3'): buy_Apr_OIL3,\n",
       " ('May', 'VEG1'): buy_May_VEG1,\n",
       " ('May', 'VEG2'): buy_May_VEG2,\n",
       " ('May', 'OIL1'): buy_May_OIL1,\n",
       " ('May', 'OIL2'): buy_May_OIL2,\n",
       " ('May', 'OIL3'): buy_May_OIL3,\n",
       " ('Jun', 'VEG1'): buy_Jun_VEG1,\n",
       " ('Jun', 'VEG2'): buy_Jun_VEG2,\n",
       " ('Jun', 'OIL1'): buy_Jun_OIL1,\n",
       " ('Jun', 'OIL2'): buy_Jun_OIL2,\n",
       " ('Jun', 'OIL3'): buy_Jun_OIL3}"
      ]
     },
     "execution_count": 14,
     "metadata": {},
     "output_type": "execute_result"
    }
   ],
   "source": [
    "## 定义约束条件\n",
    "### balance  constraints \n",
    "Balance = dict()\n",
    "for month in months:\n",
    "    if month == \n",
    "    for oil in oils:\n",
    "        Balance[month,oil] = model.addCons()\n",
    "\n",
    "### Inventory Target\n",
    "### capacity constraints\n",
    "### hardness constraints\n",
    "### Mass Conservation constraints\n"
   ]
  },
  {
   "cell_type": "code",
   "execution_count": null,
   "metadata": {},
   "outputs": [],
   "source": []
  }
 ],
 "metadata": {
  "hide_input": false,
  "kernelspec": {
   "display_name": "Python 3",
   "language": "python",
   "name": "python3"
  },
  "language_info": {
   "codemirror_mode": {
    "name": "ipython",
    "version": 3
   },
   "file_extension": ".py",
   "mimetype": "text/x-python",
   "name": "python",
   "nbconvert_exporter": "python",
   "pygments_lexer": "ipython3",
   "version": "3.8.3"
  },
  "toc": {
   "base_numbering": 1,
   "nav_menu": {},
   "number_sections": true,
   "sideBar": true,
   "skip_h1_title": false,
   "title_cell": "Table of Contents",
   "title_sidebar": "Contents",
   "toc_cell": false,
   "toc_position": {},
   "toc_section_display": true,
   "toc_window_display": false
  },
  "varInspector": {
   "cols": {
    "lenName": 16,
    "lenType": 16,
    "lenVar": 40
   },
   "kernels_config": {
    "python": {
     "delete_cmd_postfix": "",
     "delete_cmd_prefix": "del ",
     "library": "var_list.py",
     "varRefreshCmd": "print(var_dic_list())"
    },
    "r": {
     "delete_cmd_postfix": ") ",
     "delete_cmd_prefix": "rm(",
     "library": "var_list.r",
     "varRefreshCmd": "cat(var_dic_list()) "
    }
   },
   "types_to_exclude": [
    "module",
    "function",
    "builtin_function_or_method",
    "instance",
    "_Feature"
   ],
   "window_display": false
  }
 },
 "nbformat": 4,
 "nbformat_minor": 4
}
